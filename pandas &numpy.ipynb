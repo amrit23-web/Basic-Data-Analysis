{
  "cells": [
    {
      "cell_type": "markdown",
      "metadata": {
        "id": "wThM47kuPWUJ"
      },
      "source": [
        "# Pandas"
      ]
    },
    {
      "cell_type": "markdown",
      "source": [
        "what is Pandas \n",
        "panel data // python data analysis\n",
        "why use Pandas\n",
        "store and analysis of information\n",
        "what can pandas do\n",
        "max min avg null value correlation "
      ],
      "metadata": {
        "id": "clYLWcn64D7F"
      }
    },
    {
      "cell_type": "markdown",
      "metadata": {
        "id": "1mPEWKsO_-fG"
      },
      "source": [
        "r and python as skill"
      ]
    },
    {
      "cell_type": "code",
      "execution_count": 1,
      "metadata": {
        "colab": {
          "base_uri": "https://localhost:8080/"
        },
        "id": "vS7cqIDaA9xM",
        "outputId": "387d60ca-deb6-418f-e27d-99fee0593dcf"
      },
      "outputs": [
        {
          "output_type": "stream",
          "name": "stdout",
          "text": [
            "Looking in indexes: https://pypi.org/simple, https://us-python.pkg.dev/colab-wheels/public/simple/\n",
            "Requirement already satisfied: pandas in /usr/local/lib/python3.8/dist-packages (1.3.5)\n",
            "Requirement already satisfied: pytz>=2017.3 in /usr/local/lib/python3.8/dist-packages (from pandas) (2022.7)\n",
            "Requirement already satisfied: numpy>=1.17.3 in /usr/local/lib/python3.8/dist-packages (from pandas) (1.21.6)\n",
            "Requirement already satisfied: python-dateutil>=2.7.3 in /usr/local/lib/python3.8/dist-packages (from pandas) (2.8.2)\n",
            "Requirement already satisfied: six>=1.5 in /usr/local/lib/python3.8/dist-packages (from python-dateutil>=2.7.3->pandas) (1.15.0)\n"
          ]
        }
      ],
      "source": [
        "pip install pandas"
      ]
    },
    {
      "cell_type": "code",
      "execution_count": 2,
      "metadata": {
        "colab": {
          "base_uri": "https://localhost:8080/"
        },
        "id": "x8Xc5mSMBPww",
        "outputId": "61deff9b-7809-4d65-9722-174743683517"
      },
      "outputs": [
        {
          "output_type": "stream",
          "name": "stdout",
          "text": [
            "    cars  passings\n",
            "0    bmw         3\n",
            "1  volvo         7\n",
            "2   ford         2\n"
          ]
        }
      ],
      "source": [
        "import pandas as pd\n",
        "mydataset= {\n",
        "    'cars': [\"bmw\",\"volvo\",\"ford\"],\n",
        "    'passings': [3,7,2]\n",
        "}\n",
        "myvar=pd.DataFrame(mydataset)\n",
        "print(myvar)"
      ]
    },
    {
      "cell_type": "code",
      "execution_count": 3,
      "metadata": {
        "colab": {
          "base_uri": "https://localhost:8080/"
        },
        "id": "bUepwv-sDFDf",
        "outputId": "9c23ad76-08c9-4ecd-ab5f-82e8471c1bed"
      },
      "outputs": [
        {
          "output_type": "stream",
          "name": "stdout",
          "text": [
            "1.3.5\n"
          ]
        }
      ],
      "source": [
        "print(pd.__version__)"
      ]
    },
    {
      "cell_type": "code",
      "execution_count": 4,
      "metadata": {
        "colab": {
          "base_uri": "https://localhost:8080/"
        },
        "id": "nVT72oiEDXX4",
        "outputId": "a2556664-b504-4c32-cdbc-343641776def"
      },
      "outputs": [
        {
          "output_type": "stream",
          "name": "stdout",
          "text": [
            "0    1\n",
            "1    7\n",
            "2    2\n",
            "dtype: int64\n"
          ]
        }
      ],
      "source": [
        "#what is series\n",
        "a=[1,7,2]\n",
        "myvar=pd.Series(a)\n",
        "print(myvar)"
      ]
    },
    {
      "cell_type": "code",
      "execution_count": 5,
      "metadata": {
        "colab": {
          "base_uri": "https://localhost:8080/"
        },
        "id": "Cl33jDIvD05X",
        "outputId": "ae4dc950-5ba5-49e1-f2e5-105514c7e8fc"
      },
      "outputs": [
        {
          "output_type": "stream",
          "name": "stdout",
          "text": [
            "1\n"
          ]
        }
      ],
      "source": [
        "#labels\n",
        "#first value of series\n",
        "print(myvar[0])"
      ]
    },
    {
      "cell_type": "code",
      "execution_count": 6,
      "metadata": {
        "colab": {
          "base_uri": "https://localhost:8080/"
        },
        "id": "G5xsmaNXEDTy",
        "outputId": "d3203408-3229-459a-813c-034f83be682d"
      },
      "outputs": [
        {
          "output_type": "stream",
          "name": "stdout",
          "text": [
            "x    1\n",
            "y    7\n",
            "z    2\n",
            "dtype: int64\n"
          ]
        }
      ],
      "source": [
        "#create labels\n",
        "a=[1,7,2]\n",
        "myvar=pd.Series(a, index=[\"x\",\"y\",\"z\"])\n",
        "print(myvar)"
      ]
    },
    {
      "cell_type": "code",
      "execution_count": 7,
      "metadata": {
        "colab": {
          "base_uri": "https://localhost:8080/"
        },
        "id": "yGMkKzHDFCtA",
        "outputId": "21832463-6e0f-4f22-9f30-325224da9364"
      },
      "outputs": [
        {
          "output_type": "stream",
          "name": "stdout",
          "text": [
            "7\n"
          ]
        }
      ],
      "source": [
        "print(myvar[\"y\"])"
      ]
    },
    {
      "cell_type": "code",
      "execution_count": 8,
      "metadata": {
        "colab": {
          "base_uri": "https://localhost:8080/"
        },
        "id": "XsEkacELFC1Y",
        "outputId": "b2a90c6c-cd29-467a-847a-3953b185f1e7"
      },
      "outputs": [
        {
          "output_type": "stream",
          "name": "stdout",
          "text": [
            "day1    420\n",
            "day2    380\n",
            "day3    300\n",
            "dtype: int64\n"
          ]
        }
      ],
      "source": [
        "# KEY/value object as series\n",
        "calories={\"day1\":420,\"day2\":380,\"day3\":300}\n",
        "myvar=pd.Series(calories, index=[\"day1\",\"day2\",\"day3\"])\n",
        "print(myvar)"
      ]
    },
    {
      "cell_type": "code",
      "execution_count": 9,
      "metadata": {
        "colab": {
          "base_uri": "https://localhost:8080/"
        },
        "id": "1jGciyb7F33e",
        "outputId": "6da6e1f1-0c98-4bb3-d9fd-426accf6ccea"
      },
      "outputs": [
        {
          "output_type": "stream",
          "name": "stdout",
          "text": [
            "   calories  duration\n",
            "0       420        50\n",
            "1       380        40\n",
            "2       300        45\n"
          ]
        }
      ],
      "source": [
        "#DataFrames\n",
        "data={\n",
        "    'calories':[420,380,300],\n",
        "    'duration':[50,40,45]\n",
        "}\n",
        "myvar=pd.DataFrame(data)\n",
        "print(myvar)"
      ]
    },
    {
      "cell_type": "code",
      "execution_count": 10,
      "metadata": {
        "colab": {
          "base_uri": "https://localhost:8080/"
        },
        "id": "IcFKvEVvHKn5",
        "outputId": "787e05c9-ec8d-483c-c82a-73f2bf68c7fe"
      },
      "outputs": [
        {
          "output_type": "stream",
          "name": "stdout",
          "text": [
            "calories    420\n",
            "duration     50\n",
            "Name: 0, dtype: int64\n"
          ]
        }
      ],
      "source": [
        "#locate row\n",
        "print(myvar.loc[0])"
      ]
    },
    {
      "cell_type": "code",
      "execution_count": 11,
      "metadata": {
        "colab": {
          "base_uri": "https://localhost:8080/"
        },
        "id": "eAmJYGIoH24X",
        "outputId": "dbad2d87-fc21-4e1a-a425-82db6198e38d"
      },
      "outputs": [
        {
          "output_type": "stream",
          "name": "stdout",
          "text": [
            "   calories  duration\n",
            "0       420        50\n",
            "1       380        40\n"
          ]
        }
      ],
      "source": [
        "print(myvar.loc[[0,1]])"
      ]
    },
    {
      "cell_type": "code",
      "execution_count": 12,
      "metadata": {
        "colab": {
          "base_uri": "https://localhost:8080/"
        },
        "id": "1t0aQ3DjH27m",
        "outputId": "f275d7c1-2e4c-407d-848f-2881892f5393"
      },
      "outputs": [
        {
          "output_type": "stream",
          "name": "stdout",
          "text": [
            "      calories  duration\n",
            "day1       420        50\n",
            "day2       380        40\n",
            "day3       300        45\n"
          ]
        }
      ],
      "source": [
        "data={\n",
        "    'calories':[420,380,300],\n",
        "    'duration':[50,40,45]\n",
        "}\n",
        "myvar=pd.DataFrame(data, index=[\"day1\",\"day2\",\"day3\"])\n",
        "print(myvar)"
      ]
    },
    {
      "cell_type": "code",
      "execution_count": 13,
      "metadata": {
        "colab": {
          "base_uri": "https://localhost:8080/"
        },
        "id": "WIlJ-aLUI1U_",
        "outputId": "2c71b930-1632-4eae-d74e-198fa28942b9"
      },
      "outputs": [
        {
          "output_type": "stream",
          "name": "stdout",
          "text": [
            "      calories  duration\n",
            "day2       380        40\n",
            "day3       300        45\n"
          ]
        }
      ],
      "source": [
        "print(myvar.loc[[\"day2\",\"day3\"]])"
      ]
    },
    {
      "cell_type": "code",
      "execution_count": 14,
      "metadata": {
        "colab": {
          "base_uri": "https://localhost:8080/"
        },
        "id": "UTLIYjXUJOYj",
        "outputId": "4103df42-e2bf-4d58-dc04-c2ef18dfae04"
      },
      "outputs": [
        {
          "output_type": "stream",
          "name": "stdout",
          "text": [
            "     Duration  Pulse  Maxpulse  Calories\n",
            "0          60    110       130     409.1\n",
            "1          60    117       145     479.0\n",
            "2          60    103       135     340.0\n",
            "3          45    109       175     282.4\n",
            "4          45    117       148     406.0\n",
            "..        ...    ...       ...       ...\n",
            "164        60    105       140     290.8\n",
            "165        60    110       145     300.0\n",
            "166        60    115       145     310.2\n",
            "167        75    120       150     320.4\n",
            "168        75    125       150     330.4\n",
            "\n",
            "[169 rows x 4 columns]\n"
          ]
        }
      ],
      "source": [
        "df=pd.read_csv(\"data.csv\")\n",
        "print(df)"
      ]
    },
    {
      "cell_type": "code",
      "execution_count": 15,
      "metadata": {
        "colab": {
          "base_uri": "https://localhost:8080/",
          "height": 206
        },
        "id": "AkCWF_nLLkND",
        "outputId": "e180094d-df83-42b5-b3e8-0c9795c805be"
      },
      "outputs": [
        {
          "output_type": "execute_result",
          "data": {
            "text/plain": [
              "   Duration  Pulse  Maxpulse  Calories\n",
              "0        60    110       130     409.1\n",
              "1        60    117       145     479.0\n",
              "2        60    103       135     340.0\n",
              "3        45    109       175     282.4\n",
              "4        45    117       148     406.0"
            ],
            "text/html": [
              "\n",
              "  <div id=\"df-9b7d40db-0ae6-409a-b9cf-78405258de16\">\n",
              "    <div class=\"colab-df-container\">\n",
              "      <div>\n",
              "<style scoped>\n",
              "    .dataframe tbody tr th:only-of-type {\n",
              "        vertical-align: middle;\n",
              "    }\n",
              "\n",
              "    .dataframe tbody tr th {\n",
              "        vertical-align: top;\n",
              "    }\n",
              "\n",
              "    .dataframe thead th {\n",
              "        text-align: right;\n",
              "    }\n",
              "</style>\n",
              "<table border=\"1\" class=\"dataframe\">\n",
              "  <thead>\n",
              "    <tr style=\"text-align: right;\">\n",
              "      <th></th>\n",
              "      <th>Duration</th>\n",
              "      <th>Pulse</th>\n",
              "      <th>Maxpulse</th>\n",
              "      <th>Calories</th>\n",
              "    </tr>\n",
              "  </thead>\n",
              "  <tbody>\n",
              "    <tr>\n",
              "      <th>0</th>\n",
              "      <td>60</td>\n",
              "      <td>110</td>\n",
              "      <td>130</td>\n",
              "      <td>409.1</td>\n",
              "    </tr>\n",
              "    <tr>\n",
              "      <th>1</th>\n",
              "      <td>60</td>\n",
              "      <td>117</td>\n",
              "      <td>145</td>\n",
              "      <td>479.0</td>\n",
              "    </tr>\n",
              "    <tr>\n",
              "      <th>2</th>\n",
              "      <td>60</td>\n",
              "      <td>103</td>\n",
              "      <td>135</td>\n",
              "      <td>340.0</td>\n",
              "    </tr>\n",
              "    <tr>\n",
              "      <th>3</th>\n",
              "      <td>45</td>\n",
              "      <td>109</td>\n",
              "      <td>175</td>\n",
              "      <td>282.4</td>\n",
              "    </tr>\n",
              "    <tr>\n",
              "      <th>4</th>\n",
              "      <td>45</td>\n",
              "      <td>117</td>\n",
              "      <td>148</td>\n",
              "      <td>406.0</td>\n",
              "    </tr>\n",
              "  </tbody>\n",
              "</table>\n",
              "</div>\n",
              "      <button class=\"colab-df-convert\" onclick=\"convertToInteractive('df-9b7d40db-0ae6-409a-b9cf-78405258de16')\"\n",
              "              title=\"Convert this dataframe to an interactive table.\"\n",
              "              style=\"display:none;\">\n",
              "        \n",
              "  <svg xmlns=\"http://www.w3.org/2000/svg\" height=\"24px\"viewBox=\"0 0 24 24\"\n",
              "       width=\"24px\">\n",
              "    <path d=\"M0 0h24v24H0V0z\" fill=\"none\"/>\n",
              "    <path d=\"M18.56 5.44l.94 2.06.94-2.06 2.06-.94-2.06-.94-.94-2.06-.94 2.06-2.06.94zm-11 1L8.5 8.5l.94-2.06 2.06-.94-2.06-.94L8.5 2.5l-.94 2.06-2.06.94zm10 10l.94 2.06.94-2.06 2.06-.94-2.06-.94-.94-2.06-.94 2.06-2.06.94z\"/><path d=\"M17.41 7.96l-1.37-1.37c-.4-.4-.92-.59-1.43-.59-.52 0-1.04.2-1.43.59L10.3 9.45l-7.72 7.72c-.78.78-.78 2.05 0 2.83L4 21.41c.39.39.9.59 1.41.59.51 0 1.02-.2 1.41-.59l7.78-7.78 2.81-2.81c.8-.78.8-2.07 0-2.86zM5.41 20L4 18.59l7.72-7.72 1.47 1.35L5.41 20z\"/>\n",
              "  </svg>\n",
              "      </button>\n",
              "      \n",
              "  <style>\n",
              "    .colab-df-container {\n",
              "      display:flex;\n",
              "      flex-wrap:wrap;\n",
              "      gap: 12px;\n",
              "    }\n",
              "\n",
              "    .colab-df-convert {\n",
              "      background-color: #E8F0FE;\n",
              "      border: none;\n",
              "      border-radius: 50%;\n",
              "      cursor: pointer;\n",
              "      display: none;\n",
              "      fill: #1967D2;\n",
              "      height: 32px;\n",
              "      padding: 0 0 0 0;\n",
              "      width: 32px;\n",
              "    }\n",
              "\n",
              "    .colab-df-convert:hover {\n",
              "      background-color: #E2EBFA;\n",
              "      box-shadow: 0px 1px 2px rgba(60, 64, 67, 0.3), 0px 1px 3px 1px rgba(60, 64, 67, 0.15);\n",
              "      fill: #174EA6;\n",
              "    }\n",
              "\n",
              "    [theme=dark] .colab-df-convert {\n",
              "      background-color: #3B4455;\n",
              "      fill: #D2E3FC;\n",
              "    }\n",
              "\n",
              "    [theme=dark] .colab-df-convert:hover {\n",
              "      background-color: #434B5C;\n",
              "      box-shadow: 0px 1px 3px 1px rgba(0, 0, 0, 0.15);\n",
              "      filter: drop-shadow(0px 1px 2px rgba(0, 0, 0, 0.3));\n",
              "      fill: #FFFFFF;\n",
              "    }\n",
              "  </style>\n",
              "\n",
              "      <script>\n",
              "        const buttonEl =\n",
              "          document.querySelector('#df-9b7d40db-0ae6-409a-b9cf-78405258de16 button.colab-df-convert');\n",
              "        buttonEl.style.display =\n",
              "          google.colab.kernel.accessAllowed ? 'block' : 'none';\n",
              "\n",
              "        async function convertToInteractive(key) {\n",
              "          const element = document.querySelector('#df-9b7d40db-0ae6-409a-b9cf-78405258de16');\n",
              "          const dataTable =\n",
              "            await google.colab.kernel.invokeFunction('convertToInteractive',\n",
              "                                                     [key], {});\n",
              "          if (!dataTable) return;\n",
              "\n",
              "          const docLinkHtml = 'Like what you see? Visit the ' +\n",
              "            '<a target=\"_blank\" href=https://colab.research.google.com/notebooks/data_table.ipynb>data table notebook</a>'\n",
              "            + ' to learn more about interactive tables.';\n",
              "          element.innerHTML = '';\n",
              "          dataTable['output_type'] = 'display_data';\n",
              "          await google.colab.output.renderOutput(dataTable, element);\n",
              "          const docLink = document.createElement('div');\n",
              "          docLink.innerHTML = docLinkHtml;\n",
              "          element.appendChild(docLink);\n",
              "        }\n",
              "      </script>\n",
              "    </div>\n",
              "  </div>\n",
              "  "
            ]
          },
          "metadata": {},
          "execution_count": 15
        }
      ],
      "source": [
        "df.head()"
      ]
    },
    {
      "cell_type": "code",
      "execution_count": 16,
      "metadata": {
        "colab": {
          "base_uri": "https://localhost:8080/"
        },
        "id": "67nZV4SELpY7",
        "outputId": "bc98655b-75b0-488f-8632-99895d592e75"
      },
      "outputs": [
        {
          "output_type": "stream",
          "name": "stdout",
          "text": [
            "     Duration  Pulse  Maxpulse  Calories\n",
            "0          60    110       130     409.1\n",
            "1          60    117       145     479.0\n",
            "2          60    103       135     340.0\n",
            "3          45    109       175     282.4\n",
            "4          45    117       148     406.0\n",
            "5          60    102       127     300.0\n",
            "6          60    110       136     374.0\n",
            "7          45    104       134     253.3\n",
            "8          30    109       133     195.1\n",
            "9          60     98       124     269.0\n",
            "10         60    103       147     329.3\n",
            "11         60    100       120     250.7\n",
            "12         60    106       128     345.3\n",
            "13         60    104       132     379.3\n",
            "14         60     98       123     275.0\n",
            "15         60     98       120     215.2\n",
            "16         60    100       120     300.0\n",
            "17         45     90       112       NaN\n",
            "18         60    103       123     323.0\n",
            "19         45     97       125     243.0\n",
            "20         60    108       131     364.2\n",
            "21         45    100       119     282.0\n",
            "22         60    130       101     300.0\n",
            "23         45    105       132     246.0\n",
            "24         60    102       126     334.5\n",
            "25         60    100       120     250.0\n",
            "26         60     92       118     241.0\n",
            "27         60    103       132       NaN\n",
            "28         60    100       132     280.0\n",
            "29         60    102       129     380.3\n",
            "30         60     92       115     243.0\n",
            "31         45     90       112     180.1\n",
            "32         60    101       124     299.0\n",
            "33         60     93       113     223.0\n",
            "34         60    107       136     361.0\n",
            "35         60    114       140     415.0\n",
            "36         60    102       127     300.0\n",
            "37         60    100       120     300.0\n",
            "38         60    100       120     300.0\n",
            "39         45    104       129     266.0\n",
            "40         45     90       112     180.1\n",
            "41         60     98       126     286.0\n",
            "42         60    100       122     329.4\n",
            "43         60    111       138     400.0\n",
            "44         60    111       131     397.0\n",
            "45         60     99       119     273.0\n",
            "46         60    109       153     387.6\n",
            "47         45    111       136     300.0\n",
            "48         45    108       129     298.0\n",
            "49         60    111       139     397.6\n",
            "50         60    107       136     380.2\n",
            "51         80    123       146     643.1\n",
            "52         60    106       130     263.0\n",
            "53         60    118       151     486.0\n",
            "54         30    136       175     238.0\n",
            "55         60    121       146     450.7\n",
            "56         60    118       121     413.0\n",
            "57         45    115       144     305.0\n",
            "58         20    153       172     226.4\n",
            "59         45    123       152     321.0\n",
            "60        210    108       160    1376.0\n",
            "61        160    110       137    1034.4\n",
            "62        160    109       135     853.0\n",
            "63         45    118       141     341.0\n",
            "64         20    110       130     131.4\n",
            "65        180     90       130     800.4\n",
            "66        150    105       135     873.4\n",
            "67        150    107       130     816.0\n",
            "68         20    106       136     110.4\n",
            "69        300    108       143    1500.2\n",
            "70        150     97       129    1115.0\n",
            "71         60    109       153     387.6\n",
            "72         90    100       127     700.0\n",
            "73        150     97       127     953.2\n",
            "74         45    114       146     304.0\n",
            "75         90     98       125     563.2\n",
            "76         45    105       134     251.0\n",
            "77         45    110       141     300.0\n",
            "78        120    100       130     500.4\n",
            "79        270    100       131    1729.0\n",
            "80         30    159       182     319.2\n",
            "81         45    149       169     344.0\n",
            "82         30    103       139     151.1\n",
            "83        120    100       130     500.0\n",
            "84         45    100       120     225.3\n",
            "85         30    151       170     300.0\n",
            "86         45    102       136     234.0\n",
            "87        120    100       157    1000.1\n",
            "88         45    129       103     242.0\n",
            "89         20     83       107      50.3\n",
            "90        180    101       127     600.1\n",
            "91         45    107       137       NaN\n",
            "92         30     90       107     105.3\n",
            "93         15     80       100      50.5\n",
            "94         20    150       171     127.4\n",
            "95         20    151       168     229.4\n",
            "96         30     95       128     128.2\n",
            "97         25    152       168     244.2\n",
            "98         30    109       131     188.2\n",
            "99         90     93       124     604.1\n",
            "100        20     95       112      77.7\n",
            "101        90     90       110     500.0\n",
            "102        90     90       100     500.0\n",
            "103        90     90       100     500.4\n",
            "104        30     92       108      92.7\n",
            "105        30     93       128     124.0\n",
            "106       180     90       120     800.3\n",
            "107        30     90       120      86.2\n",
            "108        90     90       120     500.3\n",
            "109       210    137       184    1860.4\n",
            "110        60    102       124     325.2\n",
            "111        45    107       124     275.0\n",
            "112        15    124       139     124.2\n",
            "113        45    100       120     225.3\n",
            "114        60    108       131     367.6\n",
            "115        60    108       151     351.7\n",
            "116        60    116       141     443.0\n",
            "117        60     97       122     277.4\n",
            "118        60    105       125       NaN\n",
            "119        60    103       124     332.7\n",
            "120        30    112       137     193.9\n",
            "121        45    100       120     100.7\n",
            "122        60    119       169     336.7\n",
            "123        60    107       127     344.9\n",
            "124        60    111       151     368.5\n",
            "125        60     98       122     271.0\n",
            "126        60     97       124     275.3\n",
            "127        60    109       127     382.0\n",
            "128        90     99       125     466.4\n",
            "129        60    114       151     384.0\n",
            "130        60    104       134     342.5\n",
            "131        60    107       138     357.5\n",
            "132        60    103       133     335.0\n",
            "133        60    106       132     327.5\n",
            "134        60    103       136     339.0\n",
            "135        20    136       156     189.0\n",
            "136        45    117       143     317.7\n",
            "137        45    115       137     318.0\n",
            "138        45    113       138     308.0\n",
            "139        20    141       162     222.4\n",
            "140        60    108       135     390.0\n",
            "141        60     97       127       NaN\n",
            "142        45    100       120     250.4\n",
            "143        45    122       149     335.4\n",
            "144        60    136       170     470.2\n",
            "145        45    106       126     270.8\n",
            "146        60    107       136     400.0\n",
            "147        60    112       146     361.9\n",
            "148        30    103       127     185.0\n",
            "149        60    110       150     409.4\n",
            "150        60    106       134     343.0\n",
            "151        60    109       129     353.2\n",
            "152        60    109       138     374.0\n",
            "153        30    150       167     275.8\n",
            "154        60    105       128     328.0\n",
            "155        60    111       151     368.5\n",
            "156        60     97       131     270.4\n",
            "157        60    100       120     270.4\n",
            "158        60    114       150     382.8\n",
            "159        30     80       120     240.9\n",
            "160        30     85       120     250.4\n",
            "161        45     90       130     260.4\n",
            "162        45     95       130     270.0\n",
            "163        45    100       140     280.9\n",
            "164        60    105       140     290.8\n",
            "165        60    110       145     300.0\n",
            "166        60    115       145     310.2\n",
            "167        75    120       150     320.4\n",
            "168        75    125       150     330.4\n"
          ]
        }
      ],
      "source": [
        "pd.options.display.max_rows=9999\n",
        "df=pd.read_csv('data.csv')\n",
        "print(df)"
      ]
    },
    {
      "cell_type": "markdown",
      "source": [
        "read JSON\n",
        "\n",
        "---\n",
        " df=pd.read_json(\"data.json\")\n",
        "\n",
        "---\n",
        " print(df.to_string)"
      ],
      "metadata": {
        "id": "QWeETxYf4Ipt"
      }
    },
    {
      "cell_type": "code",
      "execution_count": 17,
      "metadata": {
        "colab": {
          "base_uri": "https://localhost:8080/"
        },
        "id": "11eeVRwFOV5N",
        "outputId": "bdbd2e3f-7089-4067-a28c-973b20a2b3ac"
      },
      "outputs": [
        {
          "output_type": "stream",
          "name": "stdout",
          "text": [
            "Empty DataFrame\n",
            "Columns: [Duration, Pulse, Maxpulse, Calories]\n",
            "Index: []\n"
          ]
        }
      ],
      "source": [
        "df=pd.read_csv('data.csv')\n",
        "print(df.head(0))"
      ]
    },
    {
      "cell_type": "code",
      "execution_count": 18,
      "metadata": {
        "colab": {
          "base_uri": "https://localhost:8080/"
        },
        "id": "oUK0RUiyOkzE",
        "outputId": "18425419-4fd7-45b2-9821-a2947f5d09a6"
      },
      "outputs": [
        {
          "output_type": "stream",
          "name": "stdout",
          "text": [
            "<class 'pandas.core.frame.DataFrame'>\n",
            "RangeIndex: 169 entries, 0 to 168\n",
            "Data columns (total 4 columns):\n",
            " #   Column    Non-Null Count  Dtype  \n",
            "---  ------    --------------  -----  \n",
            " 0   Duration  169 non-null    int64  \n",
            " 1   Pulse     169 non-null    int64  \n",
            " 2   Maxpulse  169 non-null    int64  \n",
            " 3   Calories  164 non-null    float64\n",
            "dtypes: float64(1), int64(3)\n",
            "memory usage: 5.4 KB\n",
            "None\n"
          ]
        }
      ],
      "source": [
        "print(df.info())"
      ]
    },
    {
      "cell_type": "markdown",
      "metadata": {
        "id": "97RyzahxPC4a"
      },
      "source": [
        "169-164==5 null in calories part"
      ]
    },
    {
      "cell_type": "markdown",
      "metadata": {
        "id": "OARZYNtSPb5h"
      },
      "source": [
        "# Numpy"
      ]
    },
    {
      "cell_type": "markdown",
      "metadata": {
        "id": "3Kv1mc-IPjR2"
      },
      "source": [
        "data mining is data preprocessing process\n",
        "\n",
        "---\n",
        "\n",
        "data wrangling is data cleaing part"
      ]
    },
    {
      "cell_type": "raw",
      "metadata": {
        "id": "sHM7-QrJPBLh"
      },
      "source": [
        "why use numpy\n",
        "\n",
        "---\n",
        " faster than simple native python\n",
        "\n",
        "---\n",
        " help with nd array"
      ]
    },
    {
      "cell_type": "code",
      "execution_count": 19,
      "metadata": {
        "colab": {
          "base_uri": "https://localhost:8080/"
        },
        "id": "-k2HifEVQgTX",
        "outputId": "b9d40a23-d1f5-4b25-9b82-ba26e927e679"
      },
      "outputs": [
        {
          "output_type": "stream",
          "name": "stdout",
          "text": [
            "Looking in indexes: https://pypi.org/simple, https://us-python.pkg.dev/colab-wheels/public/simple/\n",
            "Requirement already satisfied: numpy in /usr/local/lib/python3.8/dist-packages (1.21.6)\n"
          ]
        }
      ],
      "source": [
        "pip install numpy"
      ]
    },
    {
      "cell_type": "code",
      "execution_count": 20,
      "metadata": {
        "id": "YltnKMBvQkF4"
      },
      "outputs": [],
      "source": [
        "import numpy as np"
      ]
    },
    {
      "cell_type": "code",
      "execution_count": 21,
      "metadata": {
        "colab": {
          "base_uri": "https://localhost:8080/"
        },
        "id": "ja45i3VcQoTP",
        "outputId": "cc458a90-9b79-4e3a-b836-2d56fd49bb37"
      },
      "outputs": [
        {
          "output_type": "stream",
          "name": "stdout",
          "text": [
            "1.21.6\n"
          ]
        }
      ],
      "source": [
        "print(np.__version__)"
      ]
    },
    {
      "cell_type": "code",
      "execution_count": 22,
      "metadata": {
        "colab": {
          "base_uri": "https://localhost:8080/"
        },
        "id": "bzsYHkgkRoco",
        "outputId": "1295ff60-817c-4a12-a137-2e669e4a1343"
      },
      "outputs": [
        {
          "output_type": "stream",
          "name": "stdout",
          "text": [
            "[1 2 3 4 5]\n"
          ]
        }
      ],
      "source": [
        "import numpy\n",
        "arr=numpy.array([1,2,3,4,5])\n",
        "print(arr)"
      ]
    },
    {
      "cell_type": "raw",
      "metadata": {
        "id": "iNqTpfYRSSQl"
      },
      "source": [
        "numpy arrays\n",
        "\n",
        "---\n",
        " alt to list"
      ]
    },
    {
      "cell_type": "code",
      "execution_count": 23,
      "metadata": {
        "colab": {
          "base_uri": "https://localhost:8080/"
        },
        "id": "C2wiHoCWSZND",
        "outputId": "c00f95a9-c248-4753-ea75-4748fdfccaf8"
      },
      "outputs": [
        {
          "output_type": "stream",
          "name": "stdout",
          "text": [
            "[1.23 1.43 2.45 1.91 1.86]\n",
            "[76 89 46 89 78]\n"
          ]
        }
      ],
      "source": [
        "import numpy as np\n",
        "height=[1.23,1.43,2.45,1.91,1.86]\n",
        "weight=[76,89,46,89,78]\n",
        "np_height=np.array(height)\n",
        "np_weight=np.array(weight)\n",
        "print(np_height)\n",
        "print(np_weight)"
      ]
    },
    {
      "cell_type": "code",
      "execution_count": 24,
      "metadata": {
        "colab": {
          "base_uri": "https://localhost:8080/"
        },
        "id": "6Ap8mzYhTeld",
        "outputId": "78b89a82-d7be-4101-9f28-729e655e473b"
      },
      "outputs": [
        {
          "output_type": "stream",
          "name": "stdout",
          "text": [
            "<class 'numpy.ndarray'>\n"
          ]
        }
      ],
      "source": [
        "print(type(np_height))"
      ]
    },
    {
      "cell_type": "code",
      "execution_count": 25,
      "metadata": {
        "colab": {
          "base_uri": "https://localhost:8080/"
        },
        "id": "4ntGolL_Th8E",
        "outputId": "e5cf557e-8477-4302-e83d-bdc0673c361f"
      },
      "outputs": [
        {
          "output_type": "stream",
          "name": "stdout",
          "text": [
            "[50.23464869 43.52291066  7.66347355 24.39626107 22.54595907]\n",
            "[50.23464869 43.52291066]\n"
          ]
        }
      ],
      "source": [
        "bmi=np_weight/np_height ** 2\n",
        "print(bmi)\n",
        "#subsetting\n",
        "#subset of array\n",
        "print(bmi[bmi>25])"
      ]
    },
    {
      "cell_type": "code",
      "execution_count": 26,
      "metadata": {
        "colab": {
          "base_uri": "https://localhost:8080/"
        },
        "id": "gjwsaa9BT0ak",
        "outputId": "ab83b7b8-039a-4951-9782-c5a3a9893dd1"
      },
      "outputs": [
        {
          "output_type": "stream",
          "name": "stdout",
          "text": [
            "[76 89 46 89 78]\n",
            "[167.2 195.8 101.2 195.8 171.6]\n"
          ]
        }
      ],
      "source": [
        "#qn \n",
        "weight_kg=[35,40,45,50,55,60,65]\n",
        "\n",
        "np_weight_kg=numpy.array(np_weight)\n",
        "print(np_weight_kg)\n",
        "np_weight_lbs=np_weight_kg*2.2\n",
        "print(np_weight_lbs)"
      ]
    },
    {
      "cell_type": "code",
      "source": [
        "#numpy ufuncs\n",
        "# where\n",
        "# dtype\n",
        "# out"
      ],
      "metadata": {
        "id": "zu5oHqmh4oTW"
      },
      "execution_count": null,
      "outputs": []
    },
    {
      "cell_type": "code",
      "execution_count": 27,
      "metadata": {
        "colab": {
          "base_uri": "https://localhost:8080/"
        },
        "id": "HbTlADSCWUyt",
        "outputId": "9f3fd68e-032b-4e8b-ec99-9cd4c79d4914"
      },
      "outputs": [
        {
          "output_type": "stream",
          "name": "stdout",
          "text": [
            "[5, 7, 9, 11]\n"
          ]
        }
      ],
      "source": [
        "x=[1,2,3,4]\n",
        "y=[4,5,6,7]\n",
        "z=[]\n",
        "for i,j in zip(x,y):\n",
        "  z.append(i+j)\n",
        "print(z)"
      ]
    },
    {
      "cell_type": "code",
      "execution_count": 28,
      "metadata": {
        "colab": {
          "base_uri": "https://localhost:8080/"
        },
        "id": "TeT5qlnQWwZk",
        "outputId": "a7a9ea33-c055-496a-abad-b3c9bf7e77a6"
      },
      "outputs": [
        {
          "output_type": "stream",
          "name": "stdout",
          "text": [
            "[ 5  7  9 11]\n"
          ]
        }
      ],
      "source": [
        "x=[1,2,3,4]\n",
        "y=[4,5,6,7]\n",
        "z=np.add(x,y)\n",
        "print(z)"
      ]
    },
    {
      "cell_type": "markdown",
      "metadata": {
        "id": "pnxj0EKpX1jY"
      },
      "source": [
        "# Data Cleaning"
      ]
    },
    {
      "cell_type": "markdown",
      "metadata": {
        "id": "rclV-7f4X8FB"
      },
      "source": [
        "Data Wrangling using pandas"
      ]
    },
    {
      "cell_type": "code",
      "source": [
        "# #bad data\n",
        "# empty cells\n",
        "# data in wrong format\n",
        "# dublicate\n",
        "# wrong data"
      ],
      "metadata": {
        "id": "zCW2NpjD4snP"
      },
      "execution_count": 29,
      "outputs": []
    },
    {
      "cell_type": "code",
      "execution_count": 30,
      "metadata": {
        "colab": {
          "base_uri": "https://localhost:8080/"
        },
        "id": "tZQjEJIoYDsQ",
        "outputId": "6370fb37-035b-4a1f-c1bf-efbefea6e5a0"
      },
      "outputs": [
        {
          "output_type": "stream",
          "name": "stdout",
          "text": [
            "    Duration                Date    Pulse    Maxpulse    Calories\n",
            "0                 60  '2020/12/01'     110          130     409.1\n",
            "1                 60  '2020/12/02'     117          145     479.0\n",
            "2                 60  '2020/12/03'     103          135     340.0\n",
            "3                 45  '2020/12/04'     109          175     282.4\n",
            "4                 45  '2020/12/05'     117          148     406.0\n",
            "5                 60  '2020/12/06'     102          127     300.0\n",
            "6                 60  '2020/12/07'     110          136     374.0\n",
            "7                450  '2020/12/08'     104          134     253.3\n",
            "8                 30  '2020/12/09'     109          133     195.1\n",
            "9                 60  '2020/12/10'      98          124     269.0\n",
            "10                60  '2020/12/11'     103          147     329.3\n",
            "11                60  '2020/12/12'     100          120     250.7\n",
            "12                60  '2020/12/12'     100          120     250.7\n",
            "13                60  '2020/12/13'     106          128     345.3\n",
            "14                60  '2020/12/14'     104          132     379.3\n",
            "15                60  '2020/12/15'      98          123     275.0\n",
            "16                60  '2020/12/16'      98          120     215.2\n",
            "17                60  '2020/12/17'     100          120     300.0\n",
            "18                45  '2020/12/18'      90          112       NaN\n",
            "19                60  '2020/12/19'     103          123     323.0\n",
            "20                45  '2020/12/20'      97          125     243.0\n",
            "21                60  '2020/12/21'     108          131     364.2\n",
            "22                45           NaN     100          119     282.0\n",
            "23                60  '2020/12/23'     130          101     300.0\n",
            "24                45  '2020/12/24'     105          132     246.0\n",
            "25                60  '2020/12/25'     102          126     334.5\n",
            "26                60    26-12-2020     100          120     250.0\n",
            "27                60  '2020/12/27'      92          118     241.0\n",
            "28                60  '2020/12/28'     103          132       NaN\n",
            "29                60  '2020/12/29'     100          132     280.0\n",
            "30                60  '2020/12/30'     102          129     380.3\n",
            "31                60  '2020/12/31'      92          115     243.0\n"
          ]
        }
      ],
      "source": [
        "df=pd.read_csv(\"Date1.csv\")\n",
        "print(df)"
      ]
    },
    {
      "cell_type": "code",
      "execution_count": 31,
      "metadata": {
        "colab": {
          "base_uri": "https://localhost:8080/"
        },
        "id": "nH4Nqdo2YoJm",
        "outputId": "3307f929-2198-4c54-f9d1-d87bc0e68e58"
      },
      "outputs": [
        {
          "output_type": "stream",
          "name": "stdout",
          "text": [
            "<class 'pandas.core.frame.DataFrame'>\n",
            "RangeIndex: 32 entries, 0 to 31\n",
            "Data columns (total 5 columns):\n",
            " #   Column            Non-Null Count  Dtype  \n",
            "---  ------            --------------  -----  \n",
            " 0   Duration          32 non-null     int64  \n",
            " 1     Date            31 non-null     object \n",
            " 2   Pulse             32 non-null     int64  \n",
            " 3    Maxpulse         32 non-null     int64  \n",
            " 4   Calories          30 non-null     float64\n",
            "dtypes: float64(1), int64(3), object(1)\n",
            "memory usage: 1.4+ KB\n"
          ]
        }
      ],
      "source": [
        "df.info()"
      ]
    },
    {
      "cell_type": "raw",
      "metadata": {
        "id": "hP6A0fOnY8LO"
      },
      "source": [
        "empty cells\n",
        "\n",
        "---\n",
        " remove rows(dropna)"
      ]
    },
    {
      "cell_type": "code",
      "execution_count": 32,
      "metadata": {
        "colab": {
          "base_uri": "https://localhost:8080/"
        },
        "id": "wh2sQmCqZz9K",
        "outputId": "93951566-b290-493c-d752-610509d06f85"
      },
      "outputs": [
        {
          "output_type": "stream",
          "name": "stdout",
          "text": [
            "<bound method DataFrame.to_string of     Duration                Date    Pulse    Maxpulse    Calories\n",
            "0                 60  '2020/12/01'     110          130     409.1\n",
            "1                 60  '2020/12/02'     117          145     479.0\n",
            "2                 60  '2020/12/03'     103          135     340.0\n",
            "3                 45  '2020/12/04'     109          175     282.4\n",
            "4                 45  '2020/12/05'     117          148     406.0\n",
            "5                 60  '2020/12/06'     102          127     300.0\n",
            "6                 60  '2020/12/07'     110          136     374.0\n",
            "7                450  '2020/12/08'     104          134     253.3\n",
            "8                 30  '2020/12/09'     109          133     195.1\n",
            "9                 60  '2020/12/10'      98          124     269.0\n",
            "10                60  '2020/12/11'     103          147     329.3\n",
            "11                60  '2020/12/12'     100          120     250.7\n",
            "12                60  '2020/12/12'     100          120     250.7\n",
            "13                60  '2020/12/13'     106          128     345.3\n",
            "14                60  '2020/12/14'     104          132     379.3\n",
            "15                60  '2020/12/15'      98          123     275.0\n",
            "16                60  '2020/12/16'      98          120     215.2\n",
            "17                60  '2020/12/17'     100          120     300.0\n",
            "19                60  '2020/12/19'     103          123     323.0\n",
            "20                45  '2020/12/20'      97          125     243.0\n",
            "21                60  '2020/12/21'     108          131     364.2\n",
            "23                60  '2020/12/23'     130          101     300.0\n",
            "24                45  '2020/12/24'     105          132     246.0\n",
            "25                60  '2020/12/25'     102          126     334.5\n",
            "26                60    26-12-2020     100          120     250.0\n",
            "27                60  '2020/12/27'      92          118     241.0\n",
            "29                60  '2020/12/29'     100          132     280.0\n",
            "30                60  '2020/12/30'     102          129     380.3\n",
            "31                60  '2020/12/31'      92          115     243.0>\n"
          ]
        }
      ],
      "source": [
        "new_df=df.dropna()\n",
        "print(new_df.to_string)"
      ]
    },
    {
      "cell_type": "raw",
      "metadata": {
        "id": "kid2otG-aHja"
      },
      "source": [
        "df.isnull()"
      ]
    },
    {
      "cell_type": "code",
      "execution_count": 33,
      "metadata": {
        "id": "oTwvprjrahYQ",
        "colab": {
          "base_uri": "https://localhost:8080/"
        },
        "outputId": "7ee0740e-94a1-470d-936e-38271d05e4a9"
      },
      "outputs": [
        {
          "output_type": "stream",
          "name": "stdout",
          "text": [
            "<bound method DataFrame.to_string of     Duration                Date    Pulse    Maxpulse    Calories\n",
            "0                 60  '2020/12/01'     110          130     409.1\n",
            "1                 60  '2020/12/02'     117          145     479.0\n",
            "2                 60  '2020/12/03'     103          135     340.0\n",
            "3                 45  '2020/12/04'     109          175     282.4\n",
            "4                 45  '2020/12/05'     117          148     406.0\n",
            "5                 60  '2020/12/06'     102          127     300.0\n",
            "6                 60  '2020/12/07'     110          136     374.0\n",
            "7                450  '2020/12/08'     104          134     253.3\n",
            "8                 30  '2020/12/09'     109          133     195.1\n",
            "9                 60  '2020/12/10'      98          124     269.0\n",
            "10                60  '2020/12/11'     103          147     329.3\n",
            "11                60  '2020/12/12'     100          120     250.7\n",
            "12                60  '2020/12/12'     100          120     250.7\n",
            "13                60  '2020/12/13'     106          128     345.3\n",
            "14                60  '2020/12/14'     104          132     379.3\n",
            "15                60  '2020/12/15'      98          123     275.0\n",
            "16                60  '2020/12/16'      98          120     215.2\n",
            "17                60  '2020/12/17'     100          120     300.0\n",
            "19                60  '2020/12/19'     103          123     323.0\n",
            "20                45  '2020/12/20'      97          125     243.0\n",
            "21                60  '2020/12/21'     108          131     364.2\n",
            "23                60  '2020/12/23'     130          101     300.0\n",
            "24                45  '2020/12/24'     105          132     246.0\n",
            "25                60  '2020/12/25'     102          126     334.5\n",
            "26                60    26-12-2020     100          120     250.0\n",
            "27                60  '2020/12/27'      92          118     241.0\n",
            "29                60  '2020/12/29'     100          132     280.0\n",
            "30                60  '2020/12/30'     102          129     380.3\n",
            "31                60  '2020/12/31'      92          115     243.0>\n"
          ]
        }
      ],
      "source": [
        "# never do it it changes the master files\n",
        "df.dropna(inplace=True)  \n",
        "print(new_df.to_string)"
      ]
    },
    {
      "cell_type": "raw",
      "metadata": {
        "id": "i3gwQyTuo1Zi"
      },
      "source": [
        "replacing na value\n",
        "\n",
        "---\n",
        " fillna()"
      ]
    },
    {
      "cell_type": "code",
      "execution_count": 34,
      "metadata": {
        "id": "9kROKk0Ir5Py"
      },
      "outputs": [],
      "source": [
        "df.fillna(130,inplace=True)"
      ]
    },
    {
      "cell_type": "code",
      "execution_count": 35,
      "metadata": {
        "id": "rAt2T5AZsVjh"
      },
      "outputs": [],
      "source": [
        "df[\"Calories\"].fillna(130,inplace=True)"
      ]
    },
    {
      "cell_type": "code",
      "execution_count": 36,
      "metadata": {
        "id": "sPZ2Be1bs0Wp"
      },
      "outputs": [],
      "source": [
        "#replace using mean median mode\n",
        "x=df[\"Calories\"].mean()\n",
        "df[\"Calories\"].fillna(x,inplace=True)"
      ]
    },
    {
      "cell_type": "code",
      "execution_count": 37,
      "metadata": {
        "id": "7f_vEAIStMmY"
      },
      "outputs": [],
      "source": [
        "x=df[\"Calories\"].mode()[0] #inital mode should not be zero\n",
        "df[\"Calories\"].fillna(x,inplace=True)"
      ]
    },
    {
      "cell_type": "code",
      "execution_count": 38,
      "metadata": {
        "id": "Ubeiz_bHu8UQ"
      },
      "outputs": [],
      "source": [
        "#fixing wrong data\n",
        "df.loc[7,\"Duration\"]=40 "
      ]
    },
    {
      "cell_type": "code",
      "execution_count": 39,
      "metadata": {
        "id": "B6mkFpSNvtc-"
      },
      "outputs": [],
      "source": [
        "for x in df.index:\n",
        "  if df.loc[x,\"Duration\"]>120:\n",
        "    df.loc[x,\"Duration\"]=120"
      ]
    },
    {
      "cell_type": "raw",
      "metadata": {
        "id": "5K1FgZ8Kwke2"
      },
      "source": [
        "convet into correct format"
      ]
    },
    {
      "cell_type": "code",
      "execution_count": 40,
      "metadata": {
        "colab": {
          "base_uri": "https://localhost:8080/"
        },
        "id": "M6jpgCQ0y-F3",
        "outputId": "8fa8fa79-518e-4ac4-8284-6503263aef11"
      },
      "outputs": [
        {
          "output_type": "stream",
          "name": "stdout",
          "text": [
            "0     False\n",
            "1     False\n",
            "2     False\n",
            "3     False\n",
            "4     False\n",
            "5     False\n",
            "6     False\n",
            "7     False\n",
            "8     False\n",
            "9     False\n",
            "10    False\n",
            "11    False\n",
            "12     True\n",
            "13    False\n",
            "14    False\n",
            "15    False\n",
            "16    False\n",
            "17    False\n",
            "19    False\n",
            "20    False\n",
            "21    False\n",
            "23    False\n",
            "24    False\n",
            "25    False\n",
            "26    False\n",
            "27    False\n",
            "29    False\n",
            "30    False\n",
            "31    False\n",
            "dtype: bool\n"
          ]
        }
      ],
      "source": [
        "#removing duplicate\n",
        "print(df.duplicated())"
      ]
    },
    {
      "cell_type": "code",
      "execution_count": 41,
      "metadata": {
        "id": "xQdjaqEezU8u"
      },
      "outputs": [],
      "source": [
        "df.drop_duplicates(inplace=True)"
      ]
    },
    {
      "cell_type": "code",
      "execution_count": 42,
      "metadata": {
        "colab": {
          "base_uri": "https://localhost:8080/",
          "height": 206
        },
        "id": "yC4oZBiPzfXu",
        "outputId": "5b767744-74f1-4f57-c6df-a35033793516"
      },
      "outputs": [
        {
          "output_type": "execute_result",
          "data": {
            "text/plain": [
              "                  Duration            Pulse    Maxpulse    Calories  Duration\n",
              "Duration                  1.000000 -0.025460     0.025693 -0.124673       NaN\n",
              "Pulse                    -0.025460  1.000000     0.200177  0.503243       NaN\n",
              " Maxpulse                 0.025693  0.200177     1.000000  0.338515       NaN\n",
              "Calories                 -0.124673  0.503243     0.338515  1.000000       NaN\n",
              "Duration                       NaN       NaN          NaN       NaN       NaN"
            ],
            "text/html": [
              "\n",
              "  <div id=\"df-341d2a1e-ab13-4f57-b030-608f9bd992b2\">\n",
              "    <div class=\"colab-df-container\">\n",
              "      <div>\n",
              "<style scoped>\n",
              "    .dataframe tbody tr th:only-of-type {\n",
              "        vertical-align: middle;\n",
              "    }\n",
              "\n",
              "    .dataframe tbody tr th {\n",
              "        vertical-align: top;\n",
              "    }\n",
              "\n",
              "    .dataframe thead th {\n",
              "        text-align: right;\n",
              "    }\n",
              "</style>\n",
              "<table border=\"1\" class=\"dataframe\">\n",
              "  <thead>\n",
              "    <tr style=\"text-align: right;\">\n",
              "      <th></th>\n",
              "      <th>Duration</th>\n",
              "      <th>Pulse</th>\n",
              "      <th>Maxpulse</th>\n",
              "      <th>Calories</th>\n",
              "      <th>Duration</th>\n",
              "    </tr>\n",
              "  </thead>\n",
              "  <tbody>\n",
              "    <tr>\n",
              "      <th>Duration</th>\n",
              "      <td>1.000000</td>\n",
              "      <td>-0.025460</td>\n",
              "      <td>0.025693</td>\n",
              "      <td>-0.124673</td>\n",
              "      <td>NaN</td>\n",
              "    </tr>\n",
              "    <tr>\n",
              "      <th>Pulse</th>\n",
              "      <td>-0.025460</td>\n",
              "      <td>1.000000</td>\n",
              "      <td>0.200177</td>\n",
              "      <td>0.503243</td>\n",
              "      <td>NaN</td>\n",
              "    </tr>\n",
              "    <tr>\n",
              "      <th>Maxpulse</th>\n",
              "      <td>0.025693</td>\n",
              "      <td>0.200177</td>\n",
              "      <td>1.000000</td>\n",
              "      <td>0.338515</td>\n",
              "      <td>NaN</td>\n",
              "    </tr>\n",
              "    <tr>\n",
              "      <th>Calories</th>\n",
              "      <td>-0.124673</td>\n",
              "      <td>0.503243</td>\n",
              "      <td>0.338515</td>\n",
              "      <td>1.000000</td>\n",
              "      <td>NaN</td>\n",
              "    </tr>\n",
              "    <tr>\n",
              "      <th>Duration</th>\n",
              "      <td>NaN</td>\n",
              "      <td>NaN</td>\n",
              "      <td>NaN</td>\n",
              "      <td>NaN</td>\n",
              "      <td>NaN</td>\n",
              "    </tr>\n",
              "  </tbody>\n",
              "</table>\n",
              "</div>\n",
              "      <button class=\"colab-df-convert\" onclick=\"convertToInteractive('df-341d2a1e-ab13-4f57-b030-608f9bd992b2')\"\n",
              "              title=\"Convert this dataframe to an interactive table.\"\n",
              "              style=\"display:none;\">\n",
              "        \n",
              "  <svg xmlns=\"http://www.w3.org/2000/svg\" height=\"24px\"viewBox=\"0 0 24 24\"\n",
              "       width=\"24px\">\n",
              "    <path d=\"M0 0h24v24H0V0z\" fill=\"none\"/>\n",
              "    <path d=\"M18.56 5.44l.94 2.06.94-2.06 2.06-.94-2.06-.94-.94-2.06-.94 2.06-2.06.94zm-11 1L8.5 8.5l.94-2.06 2.06-.94-2.06-.94L8.5 2.5l-.94 2.06-2.06.94zm10 10l.94 2.06.94-2.06 2.06-.94-2.06-.94-.94-2.06-.94 2.06-2.06.94z\"/><path d=\"M17.41 7.96l-1.37-1.37c-.4-.4-.92-.59-1.43-.59-.52 0-1.04.2-1.43.59L10.3 9.45l-7.72 7.72c-.78.78-.78 2.05 0 2.83L4 21.41c.39.39.9.59 1.41.59.51 0 1.02-.2 1.41-.59l7.78-7.78 2.81-2.81c.8-.78.8-2.07 0-2.86zM5.41 20L4 18.59l7.72-7.72 1.47 1.35L5.41 20z\"/>\n",
              "  </svg>\n",
              "      </button>\n",
              "      \n",
              "  <style>\n",
              "    .colab-df-container {\n",
              "      display:flex;\n",
              "      flex-wrap:wrap;\n",
              "      gap: 12px;\n",
              "    }\n",
              "\n",
              "    .colab-df-convert {\n",
              "      background-color: #E8F0FE;\n",
              "      border: none;\n",
              "      border-radius: 50%;\n",
              "      cursor: pointer;\n",
              "      display: none;\n",
              "      fill: #1967D2;\n",
              "      height: 32px;\n",
              "      padding: 0 0 0 0;\n",
              "      width: 32px;\n",
              "    }\n",
              "\n",
              "    .colab-df-convert:hover {\n",
              "      background-color: #E2EBFA;\n",
              "      box-shadow: 0px 1px 2px rgba(60, 64, 67, 0.3), 0px 1px 3px 1px rgba(60, 64, 67, 0.15);\n",
              "      fill: #174EA6;\n",
              "    }\n",
              "\n",
              "    [theme=dark] .colab-df-convert {\n",
              "      background-color: #3B4455;\n",
              "      fill: #D2E3FC;\n",
              "    }\n",
              "\n",
              "    [theme=dark] .colab-df-convert:hover {\n",
              "      background-color: #434B5C;\n",
              "      box-shadow: 0px 1px 3px 1px rgba(0, 0, 0, 0.15);\n",
              "      filter: drop-shadow(0px 1px 2px rgba(0, 0, 0, 0.3));\n",
              "      fill: #FFFFFF;\n",
              "    }\n",
              "  </style>\n",
              "\n",
              "      <script>\n",
              "        const buttonEl =\n",
              "          document.querySelector('#df-341d2a1e-ab13-4f57-b030-608f9bd992b2 button.colab-df-convert');\n",
              "        buttonEl.style.display =\n",
              "          google.colab.kernel.accessAllowed ? 'block' : 'none';\n",
              "\n",
              "        async function convertToInteractive(key) {\n",
              "          const element = document.querySelector('#df-341d2a1e-ab13-4f57-b030-608f9bd992b2');\n",
              "          const dataTable =\n",
              "            await google.colab.kernel.invokeFunction('convertToInteractive',\n",
              "                                                     [key], {});\n",
              "          if (!dataTable) return;\n",
              "\n",
              "          const docLinkHtml = 'Like what you see? Visit the ' +\n",
              "            '<a target=\"_blank\" href=https://colab.research.google.com/notebooks/data_table.ipynb>data table notebook</a>'\n",
              "            + ' to learn more about interactive tables.';\n",
              "          element.innerHTML = '';\n",
              "          dataTable['output_type'] = 'display_data';\n",
              "          await google.colab.output.renderOutput(dataTable, element);\n",
              "          const docLink = document.createElement('div');\n",
              "          docLink.innerHTML = docLinkHtml;\n",
              "          element.appendChild(docLink);\n",
              "        }\n",
              "      </script>\n",
              "    </div>\n",
              "  </div>\n",
              "  "
            ]
          },
          "metadata": {},
          "execution_count": 42
        }
      ],
      "source": [
        "df.corr()#correation"
      ]
    },
    {
      "cell_type": "markdown",
      "metadata": {
        "id": "fo-d5jonz5BO"
      },
      "source": [
        "# Regular Expression"
      ]
    },
    {
      "cell_type": "code",
      "source": [
        "#regular expression\n",
        "# RegEx\n",
        "# search pattern \n",
        "# web scrapping"
      ],
      "metadata": {
        "id": "LvU1CVon5CsN"
      },
      "execution_count": 43,
      "outputs": []
    },
    {
      "cell_type": "markdown",
      "metadata": {
        "id": "qWzVjSym0wcd"
      },
      "source": [
        "white spaces are tab in python"
      ]
    },
    {
      "cell_type": "code",
      "execution_count": 44,
      "metadata": {
        "id": "PvtiD7-T0o8P"
      },
      "outputs": [],
      "source": [
        "import re\n",
        "#not recheck\n",
        "#/D AND /n ----------------> IN EXAM\n",
        "# /d /w /s $"
      ]
    },
    {
      "cell_type": "code",
      "source": [
        "# \\d    |any digit 0 to 9\n",
        "# \\D   |any non digit [ A-Z, a-z, special characters]\n",
        "# \\s    |any white space as \\t\\n\\r\\f\\v [\\v vertical white space]\n",
        "# \\S    |any non white space\n",
        "# \\w   |any alphanumeric A to Z a to z 0 to 9\n",
        "# \\W  | any non aplhabumeric [special characters ]\n",
        "# \\b   |represent space around a word\n",
        "# \\A   |matches start of the string\n",
        "# \\Z   |matches end of the string\n",
        "# [\\w] one character\n",
        "# [\\w]*  0 or more repetition of preceding expression \n",
        "# [\\w]+ 1 or more repetition of preceding expression \n",
        "# [\\w]?  0 or 1 repetition of preceding expression\n",
        "# \\w{5}  5 occurances of preceding expression\n",
        "# \\w{3,6} 3 to 6 occurances\n",
        "# $ to match the string in last\n",
        "# [^a-c6] to match anything except a,b,c and 6\n",
        "# [A-Za-z]\n",
        "# R | S to match either R or S.\n",
        "#  re.IGNORECASE to ignore case while matching\n",
        "\n",
        "# Character\tDescription\tExample\tTry it\n",
        "# []\tA set of characters\t\"[a-m]\"\t\n",
        "# \\\tSignals a special sequence (can also be used to escape special characters)\t\"\\d\"\t\n",
        "# .\tAny character (except newline character)\t\"he..o\"\t\n",
        "# ^\tStarts with\t\"^hello\"\t\n",
        "# $\tEnds with\t\"planet$\"\t\n",
        "# *\tZero or more occurrences\t\"he.*o\"\t\n",
        "# +\tOne or more occurrences\t\"he.+o\"\t\n",
        "# ?\tZero or one occurrences\t\"he.?o\"\t  \n",
        "# {}\tExactly the specified number of occurrences\t\"he.{2}o\"\t\n",
        "# |\tEither or\t\"falls|stays\"\t\n",
        "# ()\tCapture and group\t \t \n"
      ],
      "metadata": {
        "id": "ZxgzNByK5Ibg"
      },
      "execution_count": null,
      "outputs": []
    },
    {
      "cell_type": "code",
      "source": [
        "# Special Sequences\n",
        "# A special sequence is a \\ followed by one of the characters in the list below, and has a special meaning:\n",
        "\n",
        "# Character\tDescription\tExample\tTry it\n",
        "# \\A\tReturns a match if the specified characters are at the beginning of the string\t\"\\AThe\"\t\n",
        "# \\b\tReturns a match where the specified characters are at the beginning or at the end of a word\n",
        "# (the \"r\" in the beginning is making sure that the string is being treated as a \"raw string\")\tr\"\\bain\"\n",
        "# r\"ain\\b\"\t\n",
        "# \\B\tReturns a match where the specified characters are present, but NOT at the beginning (or at the end) of a word\n",
        "# (the \"r\" in the beginning is making sure that the string is being treated as a \"raw string\")\tr\"\\Bain\"\n",
        "# r\"ain\\B\"\t\n",
        "# \\d\tReturns a match where the string contains digits (numbers from 0-9)\t\"\\d\"\t\n",
        "# \\D\tReturns a match where the string DOES NOT contain digits\t\"\\D\"\t\n",
        "# \\s\tReturns a match where the string contains a white space character\t\"\\s\"\t\n",
        "# \\S\tReturns a match where the string DOES NOT contain a white space character\t\"\\S\"\t\n",
        "# \\w\tReturns a match where the string contains any word characters (characters from a to Z, digits from 0-9, and the underscore _ character)\t\"\\w\"\t\n",
        "# \\W\tReturns a match where the string DOES NOT contain any word characters\t\"\\W\"\t\n",
        "# \\Z\tReturns a match if the specified characters are at the end of the string\t\"Spain\\Z\"\n"
      ],
      "metadata": {
        "id": "vWqv9Hfj5XVY"
      },
      "execution_count": null,
      "outputs": []
    },
    {
      "cell_type": "code",
      "source": [
        "\n",
        "# Sets\n",
        "# A set is a set of characters inside a pair of square brackets [] with a special meaning:\n",
        "\n",
        "# Set\tDescription\tTry it\n",
        "# [arn]\tReturns a match where one of the specified characters (a, r, or n) is present\t\n",
        "# [a-n]\tReturns a match for any lower case character, alphabetically between a and n\t\n",
        "# [^arn]\tReturns a match for any character EXCEPT a, r, and n\t\n",
        "# [0123]\tReturns a match where any of the specified digits (0, 1, 2, or 3) are present\t\n",
        "# [0-9]\tReturns a match for any digit between 0 and 9\t\n",
        "# [0-5][0-9]\tReturns a match for any two-digit numbers from 00 and 59\t\n",
        "# [a-zA-Z]\tReturns a match for any character alphabetically between a and z, lower case OR upper case\t\n",
        "# [+]\tIn sets, +, *, ., |, (), $,{} has no special meaning, so [+] means: return a match for any + character in the string\n"
      ],
      "metadata": {
        "id": "NNWoVV4w5O_4"
      },
      "execution_count": null,
      "outputs": []
    },
    {
      "cell_type": "raw",
      "metadata": {
        "id": "oVu3OsjD2hjX"
      },
      "source": [
        "capital is for not condition "
      ]
    },
    {
      "cell_type": "code",
      "execution_count": 45,
      "metadata": {
        "colab": {
          "base_uri": "https://localhost:8080/"
        },
        "id": "mzoul6BD25dO",
        "outputId": "caae68c1-8ed2-4706-cac6-cd05be1a6fa9"
      },
      "outputs": [
        {
          "output_type": "stream",
          "name": "stdout",
          "text": [
            "[]\n"
          ]
        }
      ],
      "source": [
        "#finding lower case :\n",
        "txt =  \"The rain in Spain\"\n",
        "x= re.findall(\"The rain  in Spain\", txt)\n",
        "print(x)\n"
      ]
    },
    {
      "cell_type": "code",
      "execution_count": 46,
      "metadata": {
        "colab": {
          "base_uri": "https://localhost:8080/"
        },
        "id": "h0rryBjC8Mbo",
        "outputId": "3045987e-78e1-4f6e-fb3c-7e25fec8498e"
      },
      "outputs": [
        {
          "output_type": "stream",
          "name": "stdout",
          "text": [
            "YES ! We have a match!\n"
          ]
        }
      ],
      "source": [
        "txt = \"The rain in Spain\"\n",
        "x = re.search(\"^The.*Spain$\", txt)\n",
        "if x:\n",
        "    print(\"YES ! We have a match!\")\n",
        "else:\n",
        "    print(\"No match \")"
      ]
    },
    {
      "cell_type": "code",
      "execution_count": 47,
      "metadata": {
        "colab": {
          "base_uri": "https://localhost:8080/"
        },
        "id": "4jFKm6Zj8wA3",
        "outputId": "e3c71cde-b456-4b67-911f-f2f293a2a18f"
      },
      "outputs": [
        {
          "output_type": "stream",
          "name": "stdout",
          "text": [
            "YES ! We have a match!\n"
          ]
        }
      ],
      "source": [
        "txt = \"hello planet\"\n",
        "x = re.search(\"planet$\", txt)\n",
        "if x:\n",
        "    print(\"YES ! We have a match!\")\n",
        "else:\n",
        "    print(\"No match \")"
      ]
    },
    {
      "cell_type": "code",
      "execution_count": 48,
      "metadata": {
        "colab": {
          "base_uri": "https://localhost:8080/"
        },
        "id": "LXGDjUPu-hQ4",
        "outputId": "2df282c4-0958-4577-946c-48673b6d20f6"
      },
      "outputs": [
        {
          "output_type": "stream",
          "name": "stdout",
          "text": [
            "YES ! We have a match!\n"
          ]
        }
      ],
      "source": [
        "txt = \"The rain in Spain\"\n",
        "x = re.search(\"\\AThe\", txt)\n",
        "if x:\n",
        "    print(\"YES ! We have a match!\")\n",
        "else:\n",
        "    print(\"No match \")"
      ]
    },
    {
      "cell_type": "code",
      "execution_count": 49,
      "metadata": {
        "id": "TKQ3BqLg-o-P",
        "colab": {
          "base_uri": "https://localhost:8080/"
        },
        "outputId": "b7b1af9c-ef8d-4cf0-8511-f0bd8fd95846"
      },
      "outputs": [
        {
          "output_type": "stream",
          "name": "stdout",
          "text": [
            "['falls']\n"
          ]
        }
      ],
      "source": [
        "import re\n",
        "txt = \"The rain in spain falls mainly in the plain!\"\n",
        "x = re.findall(\"falls|stays\", txt)\n",
        "print(x)"
      ]
    },
    {
      "cell_type": "code",
      "execution_count": 50,
      "metadata": {
        "colab": {
          "base_uri": "https://localhost:8080/"
        },
        "id": "oVWBE-nI0Nfg",
        "outputId": "06e386d9-74db-488a-df1a-36f9e4138dc9"
      },
      "outputs": [
        {
          "output_type": "stream",
          "name": "stdout",
          "text": [
            "[]\n"
          ]
        }
      ],
      "source": [
        "txt = \"Check if the string \"\n",
        "x = re.findall(\"\\AThe\", txt)\n",
        "print(x)"
      ]
    },
    {
      "cell_type": "code",
      "execution_count": 51,
      "metadata": {
        "colab": {
          "base_uri": "https://localhost:8080/"
        },
        "id": "6_9exV9o0Nfh",
        "outputId": "0129fe7d-cb32-4f03-fe78-d2c224380da2"
      },
      "outputs": [
        {
          "output_type": "stream",
          "name": "stdout",
          "text": [
            "no match\n"
          ]
        }
      ],
      "source": [
        "import re\n",
        "txt='The rain in Spain'\n",
        "x = re.findall(r'\\bain',txt)\n",
        "if x:\n",
        "    print('yes! we have a match!')\n",
        "else:\n",
        "    print('no match')"
      ]
    },
    {
      "cell_type": "code",
      "execution_count": 52,
      "metadata": {
        "colab": {
          "base_uri": "https://localhost:8080/"
        },
        "id": "1aBMC0w10Nfh",
        "outputId": "1f7bd14d-e2c0-4717-945b-43cf3fadffba"
      },
      "outputs": [
        {
          "output_type": "stream",
          "name": "stdout",
          "text": [
            "yes! we have a match!\n"
          ]
        }
      ],
      "source": [
        "x = re.findall(r'\\Bain',txt)\n",
        "if x:\n",
        "    print('yes! we have a match!')\n",
        "else:\n",
        "    print('no match')"
      ]
    },
    {
      "cell_type": "code",
      "execution_count": 53,
      "metadata": {
        "colab": {
          "base_uri": "https://localhost:8080/"
        },
        "id": "TTbeuYrF0Nfi",
        "outputId": "484a59ae-1748-437c-a9c2-ebaf52ffa1c5"
      },
      "outputs": [
        {
          "output_type": "stream",
          "name": "stdout",
          "text": [
            "no match\n"
          ]
        }
      ],
      "source": [
        "import re\n",
        "txt='The rain in Spain'\n",
        "x = re.findall(r'\\Wain',txt)\n",
        "if x:\n",
        "    print('yes! we have a match!')\n",
        "else:\n",
        "    print('no match')"
      ]
    },
    {
      "cell_type": "code",
      "execution_count": 54,
      "metadata": {
        "colab": {
          "base_uri": "https://localhost:8080/"
        },
        "id": "8Xo5FS9F0Nfj",
        "outputId": "0074db2e-a3cb-4f8d-ba7d-51bebe8be0d7"
      },
      "outputs": [
        {
          "output_type": "stream",
          "name": "stdout",
          "text": [
            "yes! we have a match!\n"
          ]
        }
      ],
      "source": [
        "import re\n",
        "txt='The rain in Spain'\n",
        "x = re.findall(r'\\wain',txt)\n",
        "if x:\n",
        "    print('yes! we have a match!')\n",
        "else:\n",
        "    print('no match')"
      ]
    },
    {
      "cell_type": "code",
      "execution_count": 55,
      "metadata": {
        "colab": {
          "base_uri": "https://localhost:8080/"
        },
        "id": "HJBFm5-_0Nfj",
        "outputId": "f5cb9ddb-0ad3-45d1-e191-92f12e7df188"
      },
      "outputs": [
        {
          "output_type": "stream",
          "name": "stdout",
          "text": [
            "no match\n"
          ]
        }
      ],
      "source": [
        "import re\n",
        "txt='The rain in Spain'\n",
        "x = re.findall(r'\\sain',txt)\n",
        "if x:\n",
        "    print('yes! we have a match!')\n",
        "else:\n",
        "    print('no match')"
      ]
    },
    {
      "cell_type": "code",
      "execution_count": 56,
      "metadata": {
        "colab": {
          "base_uri": "https://localhost:8080/"
        },
        "id": "kj_hwajp0Nfk",
        "outputId": "ca086ba3-5fe6-404b-f9f6-cabad5cbdee8"
      },
      "outputs": [
        {
          "output_type": "stream",
          "name": "stdout",
          "text": [
            "yes! we have a match!\n"
          ]
        }
      ],
      "source": [
        "import re\n",
        "txt='The rain in Spain'\n",
        "x = re.findall('\\S',txt)\n",
        "if x:\n",
        "    print('yes! we have a match!')\n",
        "else:\n",
        "    print('no match')"
      ]
    },
    {
      "cell_type": "code",
      "execution_count": 57,
      "metadata": {
        "colab": {
          "base_uri": "https://localhost:8080/"
        },
        "id": "mmdANIX-0Nfk",
        "outputId": "deb136c6-0dab-493e-ae67-761ed70d9458"
      },
      "outputs": [
        {
          "output_type": "stream",
          "name": "stdout",
          "text": [
            "['T', 'h', 'e', 'r', 'a', 'i', 'n', 'i', 'n', 'S', 'p', 'a', 'i', 'n']\n"
          ]
        }
      ],
      "source": [
        "txt='The rain in Spain'\n",
        "x = re.findall('\\S',txt)\n",
        "print(x)"
      ]
    },
    {
      "cell_type": "code",
      "execution_count": 58,
      "metadata": {
        "colab": {
          "base_uri": "https://localhost:8080/"
        },
        "id": "mfwD_yB70Nfl",
        "outputId": "87625a48-1fb8-4027-cf89-3e2e8fb4623c"
      },
      "outputs": [
        {
          "output_type": "stream",
          "name": "stdout",
          "text": [
            "[' ', ' ', ' ']\n"
          ]
        }
      ],
      "source": [
        "txt='The rain in Spain'\n",
        "x = re.findall('\\s',txt)\n",
        "print(x)"
      ]
    },
    {
      "cell_type": "code",
      "execution_count": 59,
      "metadata": {
        "colab": {
          "base_uri": "https://localhost:8080/"
        },
        "id": "GdThV_b50Nfm",
        "outputId": "49680497-9f90-46ca-befd-29ce124e59e6"
      },
      "outputs": [
        {
          "output_type": "stream",
          "name": "stdout",
          "text": [
            "['T', 'h', 'e', 'r', 'a', 'i', 'n', 'i', 'n', 'S', 'p', 'a', 'i', 'n']\n",
            "yes! we have a match!\n"
          ]
        }
      ],
      "source": [
        "txt='The rain in Spain'\n",
        "x = re.findall('\\w',txt)\n",
        "print(x)\n",
        "if x:\n",
        "    print('yes! we have a match!')\n",
        "else:\n",
        "    print('no match')"
      ]
    },
    {
      "cell_type": "code",
      "execution_count": 60,
      "metadata": {
        "colab": {
          "base_uri": "https://localhost:8080/"
        },
        "id": "hhz_4CvD0Nfm",
        "outputId": "d0bd3656-f78b-4f83-b40d-1924c8504272"
      },
      "outputs": [
        {
          "output_type": "stream",
          "name": "stdout",
          "text": [
            "[' ', ' ', ' ']\n",
            "yes! we have a match!\n"
          ]
        }
      ],
      "source": [
        "txt='The rain in Spain'\n",
        "x = re.findall('\\W',txt)\n",
        "print(x)\n",
        "if x:\n",
        "    print('yes! we have a match!')\n",
        "else:\n",
        "    print('no match')"
      ]
    },
    {
      "cell_type": "code",
      "execution_count": 61,
      "metadata": {
        "colab": {
          "base_uri": "https://localhost:8080/"
        },
        "id": "xaxs0gVA0Nfn",
        "outputId": "3e0dfc7e-0288-4058-aa7c-93d50795a1ba"
      },
      "outputs": [
        {
          "output_type": "stream",
          "name": "stdout",
          "text": [
            "['Spain']\n",
            "yes! we have a match!\n"
          ]
        }
      ],
      "source": [
        "txt='The rain in Spain'\n",
        "x = re.findall('Spain\\Z',txt)\n",
        "print(x)\n",
        "if x:\n",
        "    print('yes! we have a match!')\n",
        "else:\n",
        "    print('no match')"
      ]
    },
    {
      "cell_type": "code",
      "execution_count": 62,
      "metadata": {
        "colab": {
          "base_uri": "https://localhost:8080/"
        },
        "id": "ff5aBazF0Nfo",
        "outputId": "acda335c-4213-4861-8539-4dd0c401b364"
      },
      "outputs": [
        {
          "output_type": "stream",
          "name": "stdout",
          "text": [
            "['r', 'a', 'n', 'n', 'a', 'n']\n",
            "yes! we have a match!\n"
          ]
        }
      ],
      "source": [
        "txt='The rain in Spain'\n",
        "x = re.findall('[arn]',txt)\n",
        "print(x)\n",
        "if x:\n",
        "    print('yes! we have a match!')\n",
        "else:\n",
        "    print('no match')"
      ]
    },
    {
      "cell_type": "code",
      "execution_count": 63,
      "metadata": {
        "colab": {
          "base_uri": "https://localhost:8080/"
        },
        "id": "DlLuXr4m0Nfo",
        "outputId": "0d3960b4-1fc0-4225-be45-f622f35257a2"
      },
      "outputs": [
        {
          "output_type": "stream",
          "name": "stdout",
          "text": [
            "['T', 'h', 'e', ' ', 'i', ' ', 'i', ' ', 'S', 'p', 'i']\n",
            "yes! we have a match!\n"
          ]
        }
      ],
      "source": [
        "txt='The rain in Spain'\n",
        "x = re.findall('[^arn]',txt)\n",
        "print(x)\n",
        "if x:\n",
        "    print('yes! we have a match!')\n",
        "else:\n",
        "    print('no match')"
      ]
    },
    {
      "cell_type": "code",
      "execution_count": 64,
      "metadata": {
        "colab": {
          "base_uri": "https://localhost:8080/"
        },
        "id": "eEp0YAbZ0Nfp",
        "outputId": "9b845225-71e2-4321-cd51-a65dafbac06a"
      },
      "outputs": [
        {
          "output_type": "stream",
          "name": "stdout",
          "text": [
            "[]\n",
            "no match\n"
          ]
        }
      ],
      "source": [
        "txt='The rain in Spain'\n",
        "x = re.findall('[0123]',txt)\n",
        "print(x)\n",
        "if x:\n",
        "    print('yes! we have a match!')\n",
        "else:\n",
        "    print('no match')"
      ]
    },
    {
      "cell_type": "code",
      "execution_count": 65,
      "metadata": {
        "colab": {
          "base_uri": "https://localhost:8080/"
        },
        "id": "2soLiNO_0Nfp",
        "outputId": "f0cb571d-1fac-48c1-dbe2-307390a7ef9b"
      },
      "outputs": [
        {
          "output_type": "stream",
          "name": "stdout",
          "text": [
            "['8', '1', '1', '4', '5']\n",
            "yes! we have a match!\n"
          ]
        }
      ],
      "source": [
        "txt='8 times before 11.45'\n",
        "x = re.findall('\\d',txt)\n",
        "print(x)\n",
        "if x:\n",
        "    print('yes! we have a match!')\n",
        "else:\n",
        "    print('no match')"
      ]
    },
    {
      "cell_type": "code",
      "execution_count": 66,
      "metadata": {
        "colab": {
          "base_uri": "https://localhost:8080/"
        },
        "id": "IfGXZDRI0Nfq",
        "outputId": "50cf4213-931d-4038-b8fe-5276cab0f2ab"
      },
      "outputs": [
        {
          "output_type": "stream",
          "name": "stdout",
          "text": [
            "['11', '45']\n",
            "yes! we have a match!\n"
          ]
        }
      ],
      "source": [
        "txt='8 times before 11.45'\n",
        "x = re.findall('[0-5][0-9]',txt)\n",
        "print(x)\n",
        "if x:\n",
        "    print('yes! we have a match!')\n",
        "else:\n",
        "    print('no match')"
      ]
    },
    {
      "cell_type": "code",
      "execution_count": 67,
      "metadata": {
        "colab": {
          "base_uri": "https://localhost:8080/"
        },
        "id": "0iYJrCFK0Nfq",
        "outputId": "7b82d04d-d67a-48d9-f690-8e5b8c0f5728"
      },
      "outputs": [
        {
          "output_type": "stream",
          "name": "stdout",
          "text": [
            "['t', 'i', 'm', 'e', 's', 'b', 'e', 'f', 'o', 'r', 'e']\n",
            "yes! we have a match!\n"
          ]
        }
      ],
      "source": [
        "txt='8 times before 11.45'\n",
        "x = re.findall('[A-Za-z]',txt)\n",
        "print(x)\n",
        "if x:\n",
        "    print('yes! we have a match!')\n",
        "else:\n",
        "    print('no match')"
      ]
    },
    {
      "cell_type": "code",
      "execution_count": 68,
      "metadata": {
        "colab": {
          "base_uri": "https://localhost:8080/"
        },
        "id": "_2M7nWKt0Nfr",
        "outputId": "ee650ee4-25b6-4b87-d760-a3dc81d95721"
      },
      "outputs": [
        {
          "output_type": "stream",
          "name": "stdout",
          "text": [
            "[]\n",
            "no match\n"
          ]
        }
      ],
      "source": [
        "txt='8 times before 11.45'\n",
        "x = re.findall('[+]',txt)\n",
        "print(x)\n",
        "if x:\n",
        "    print('yes! we have a match!')\n",
        "else:\n",
        "    print('no match')"
      ]
    },
    {
      "cell_type": "code",
      "execution_count": 69,
      "metadata": {
        "id": "_3yaKRH70Nfr"
      },
      "outputs": [],
      "source": [
        "#findall()"
      ]
    },
    {
      "cell_type": "code",
      "execution_count": 70,
      "metadata": {
        "colab": {
          "base_uri": "https://localhost:8080/"
        },
        "id": "nnUyVLIX0Nfs",
        "outputId": "50fec2e0-8ea8-4f75-a874-368c52103419"
      },
      "outputs": [
        {
          "output_type": "stream",
          "name": "stdout",
          "text": [
            "['ai', 'ai']\n"
          ]
        }
      ],
      "source": [
        "txt='The rain in spain'\n",
        "x = re.findall('ai',txt)\n",
        "print(x)\n"
      ]
    },
    {
      "cell_type": "code",
      "execution_count": 71,
      "metadata": {
        "colab": {
          "base_uri": "https://localhost:8080/"
        },
        "id": "iiCa1IQ20Nfs",
        "outputId": "b16b18ab-c5fa-4f84-f565-e95852725f0d"
      },
      "outputs": [
        {
          "output_type": "stream",
          "name": "stdout",
          "text": [
            "[]\n"
          ]
        }
      ],
      "source": [
        "txt='The rain in spain'\n",
        "x = re.findall('portugal',txt)\n",
        "print(x)\n"
      ]
    },
    {
      "cell_type": "raw",
      "metadata": {
        "id": "OoUM8BrK0Nft"
      },
      "source": [
        "search is diffrent than find"
      ]
    },
    {
      "cell_type": "code",
      "execution_count": 72,
      "metadata": {
        "colab": {
          "base_uri": "https://localhost:8080/"
        },
        "id": "ElnbAZHD0Nft",
        "outputId": "a5305868-9884-4424-9702-ec60577ff9f8"
      },
      "outputs": [
        {
          "output_type": "stream",
          "name": "stdout",
          "text": [
            "None\n"
          ]
        }
      ],
      "source": [
        "txt='The rain in spain'\n",
        "x = re.search('portugal',txt)\n",
        "print(x)\n"
      ]
    },
    {
      "cell_type": "code",
      "execution_count": 73,
      "metadata": {
        "colab": {
          "base_uri": "https://localhost:8080/"
        },
        "id": "QqdDxlKS0Nfu",
        "outputId": "c1526c6f-7b7e-4a53-a467-ffccd663fefc"
      },
      "outputs": [
        {
          "output_type": "stream",
          "name": "stdout",
          "text": [
            "['The', 'rain', 'in', 'spain']\n"
          ]
        }
      ],
      "source": [
        "txt='The rain in spain'\n",
        "x = re.split('\\s',txt)\n",
        "print(x)\n"
      ]
    },
    {
      "cell_type": "code",
      "execution_count": 74,
      "metadata": {
        "colab": {
          "base_uri": "https://localhost:8080/"
        },
        "id": "zgVmHYYj0Nfx",
        "outputId": "5b97731f-c9f8-447e-fd9a-5b07fc3a9db6"
      },
      "outputs": [
        {
          "output_type": "stream",
          "name": "stdout",
          "text": [
            "['The rain in spain']\n"
          ]
        }
      ],
      "source": [
        "txt='The rain in spain'\n",
        "x = re.split('The$',txt)\n",
        "print(x)"
      ]
    },
    {
      "cell_type": "code",
      "execution_count": 75,
      "metadata": {
        "colab": {
          "base_uri": "https://localhost:8080/"
        },
        "id": "Vx9SJ_Ti0Nfx",
        "outputId": "7d305e29-7e92-4a56-c7ad-68ea07657a2a"
      },
      "outputs": [
        {
          "output_type": "stream",
          "name": "stdout",
          "text": [
            "['The', 'rain in spain']\n"
          ]
        }
      ],
      "source": [
        "txt='The rain in spain'\n",
        "x = re.split('\\s',txt,1)\n",
        "print(x)"
      ]
    },
    {
      "cell_type": "code",
      "execution_count": 76,
      "metadata": {
        "colab": {
          "base_uri": "https://localhost:8080/"
        },
        "id": "7Y-ClSla0Nfx",
        "outputId": "12d6ba42-44ac-4a4f-f96b-399c67cf99f5"
      },
      "outputs": [
        {
          "output_type": "stream",
          "name": "stdout",
          "text": [
            "The9rain9in9spain\n"
          ]
        }
      ],
      "source": [
        "# sub() \n",
        "txt='The rain in spain'\n",
        "x = re.sub('\\s',\"9\",txt)\n",
        "print(x)"
      ]
    },
    {
      "cell_type": "code",
      "execution_count": 77,
      "metadata": {
        "colab": {
          "base_uri": "https://localhost:8080/"
        },
        "id": "cpL8b2bt0Nfy",
        "outputId": "ae0f0921-9322-4dd6-cfb7-24a08044ac0e"
      },
      "outputs": [
        {
          "output_type": "stream",
          "name": "stdout",
          "text": [
            "The9rain9in spain\n"
          ]
        }
      ],
      "source": [
        "txt='The rain in spain'\n",
        "x = re.sub('\\s',\"9\",txt,2)\n",
        "print(x)"
      ]
    },
    {
      "cell_type": "code",
      "execution_count": 78,
      "metadata": {
        "colab": {
          "base_uri": "https://localhost:8080/"
        },
        "id": "w157N1B-0Nfy",
        "outputId": "43e04098-709c-4e42-dcae-6d9a77cd9acd"
      },
      "outputs": [
        {
          "output_type": "stream",
          "name": "stdout",
          "text": [
            "<re.Match object; span=(5, 7), match='ai'>\n"
          ]
        }
      ],
      "source": [
        "#match object\n",
        "txt='The rain in spain'\n",
        "x = re.search(\"ai\",txt)\n",
        "print(x)"
      ]
    },
    {
      "cell_type": "code",
      "execution_count": 79,
      "metadata": {
        "colab": {
          "base_uri": "https://localhost:8080/"
        },
        "id": "XXYgxQh-0Nfy",
        "outputId": "07f3cd68-8a92-4394-99a4-b598d2be6df7"
      },
      "outputs": [
        {
          "output_type": "stream",
          "name": "stdout",
          "text": [
            "None\n"
          ]
        }
      ],
      "source": [
        "txt='The rain in spain'\n",
        "x = re.search(r\"\\bS\\w+\",txt)\n",
        "print(x)"
      ]
    },
    {
      "cell_type": "markdown",
      "metadata": {
        "id": "vPXrKv0V0Nfy"
      },
      "source": [
        "# confusion matrix "
      ]
    },
    {
      "cell_type": "raw",
      "metadata": {
        "id": "952kEmWu0Nfy"
      },
      "source": [
        "supervised\n",
        "--regression\n",
        "--classification\n",
        "\n",
        "---\n",
        "\n",
        "unsupervised\n",
        "--clustring\n",
        "--dimensionalty reduction\n",
        "\n",
        "---\n",
        "reinforcement"
      ]
    },
    {
      "cell_type": "raw",
      "metadata": {
        "id": "MDT4X2mr0Nfz"
      },
      "source": [
        "#planing for estimation\n",
        "startegies\n",
        "\n",
        "1.   holdout--> if trainng set is too large estimation not reliable use 70-30%\n",
        "2.   random subsampling--> two disjoin set\n",
        "3.   cross validation--> mix the sample of data  //leave one out// ratio is n-1/k //cross validation \n",
        "4.   bootstraping--> best startegies repeated number of random sampling\n",
        "\n",
        "\n"
      ]
    },
    {
      "cell_type": "raw",
      "metadata": {
        "id": "ySk-98Mu0Nfz"
      },
      "source": [
        "#diffrence between kfold and nfold\n",
        "kfold (best) & Nfold (costly good at small data set)\n",
        "# Leave-One-Out Cross-Validation:\n",
        "is a special case of k-fold cross-validation in which k=n. You can read more about this method here.\n",
        "# Stratified K-Fold Cross-Validation:\n",
        "is a version of k-fold cross-validation in which the dataset is rearranged in such a way that each fold is representative of the whole."
      ]
    },
    {
      "cell_type": "raw",
      "metadata": {
        "id": "SGNCEM9q0Nfz"
      },
      "source": [
        "accuracy estimation -->true accuracy "
      ]
    },
    {
      "cell_type": "raw",
      "metadata": {
        "id": "vIOoJH_w0Nfz"
      },
      "source": [
        "# absolute error\n",
        "1. Mean absolute error (MAE) also called L1 Loss \n",
        "2. Mean Squared Error (MSE) also called L2 Loss "
      ]
    },
    {
      "cell_type": "code",
      "execution_count": null,
      "metadata": {
        "id": "wBTuiRxI0Nfz"
      },
      "outputs": [],
      "source": [
        "# performance estimation --- confusion martrix(used on classification model)"
      ]
    },
    {
      "cell_type": "raw",
      "metadata": {
        "id": "5JZE2XGd0Nf0"
      },
      "source": [
        "True Positive rate/recoll/hit Ratio/sensitive rate"
      ]
    },
    {
      "cell_type": "code",
      "source": [
        "# True Positive ++\n",
        "# True Negative --\n",
        "# False Positive: (Type 1 Error) +-\n",
        "# False Negative: (Type 2 Error) -+"
      ],
      "metadata": {
        "id": "l0ZeqXHZ6yKw"
      },
      "execution_count": null,
      "outputs": []
    },
    {
      "cell_type": "code",
      "execution_count": null,
      "metadata": {
        "id": "vPoiCopW0Nf0"
      },
      "outputs": [],
      "source": [
        "# predictive accuracy (ε)"
      ]
    },
    {
      "cell_type": "raw",
      "metadata": {
        "id": "dWbQL0cB0Nf0"
      },
      "source": [
        "# classifer\n",
        "1. perfect \n",
        "2. wrost\n",
        "3. ultra libral\n",
        "4. ultra conservative"
      ]
    },
    {
      "cell_type": "code",
      "execution_count": null,
      "metadata": {
        "id": "hNB_nZ4H0Nf1"
      },
      "outputs": [],
      "source": [
        "#ROC--> Receiver operating characteristic"
      ]
    },
    {
      "cell_type": "markdown",
      "metadata": {
        "id": "RsMTTNvV0Nf1"
      },
      "source": [
        "# confusion matrix and analyis"
      ]
    },
    {
      "cell_type": "code",
      "execution_count": 80,
      "metadata": {
        "id": "T-X-67YL0Nf1"
      },
      "outputs": [],
      "source": [
        "import numpy as np\n",
        "import pandas as pd\n",
        "import matplotlib.pyplot as plt"
      ]
    },
    {
      "cell_type": "code",
      "execution_count": 81,
      "metadata": {
        "id": "24DNfP9J0Nf1"
      },
      "outputs": [],
      "source": [
        "from sklearn.model_selection import train_test_split\n",
        "from sklearn.compose import ColumnTransformer\n",
        "from sklearn.pipeline import Pipeline\n",
        "from sklearn.preprocessing import RobustScaler, OneHotEncoder\n",
        "from sklearn.linear_model import LogisticRegression"
      ]
    },
    {
      "cell_type": "code",
      "execution_count": 82,
      "metadata": {
        "id": "bFustCyy0Nf1"
      },
      "outputs": [],
      "source": [
        "df=pd.read_csv(\"churn modelling.csv\")"
      ]
    },
    {
      "cell_type": "code",
      "execution_count": 83,
      "metadata": {
        "colab": {
          "base_uri": "https://localhost:8080/",
          "height": 270
        },
        "id": "USEHUEOq0Nf1",
        "outputId": "b233ded5-a2df-46f4-dc1c-b51a85a18a3a"
      },
      "outputs": [
        {
          "output_type": "execute_result",
          "data": {
            "text/plain": [
              "   RowNumber  CustomerId   Surname  CreditScore Geography  Gender  Age  \\\n",
              "0          1    15634602  Hargrave          619    France  Female   42   \n",
              "1          2    15647311      Hill          608     Spain  Female   41   \n",
              "2          3    15619304      Onio          502    France  Female   42   \n",
              "3          4    15701354      Boni          699    France  Female   39   \n",
              "4          5    15737888  Mitchell          850     Spain  Female   43   \n",
              "\n",
              "   Tenure    Balance  NumOfProducts  HasCrCard  IsActiveMember  \\\n",
              "0       2       0.00              1          1               1   \n",
              "1       1   83807.86              1          0               1   \n",
              "2       8  159660.80              3          1               0   \n",
              "3       1       0.00              2          0               0   \n",
              "4       2  125510.82              1          1               1   \n",
              "\n",
              "   EstimatedSalary  Exited  \n",
              "0        101348.88       1  \n",
              "1        112542.58       0  \n",
              "2        113931.57       1  \n",
              "3         93826.63       0  \n",
              "4         79084.10       0  "
            ],
            "text/html": [
              "\n",
              "  <div id=\"df-5fd4512b-276d-4d85-9770-f6a6a9d5967b\">\n",
              "    <div class=\"colab-df-container\">\n",
              "      <div>\n",
              "<style scoped>\n",
              "    .dataframe tbody tr th:only-of-type {\n",
              "        vertical-align: middle;\n",
              "    }\n",
              "\n",
              "    .dataframe tbody tr th {\n",
              "        vertical-align: top;\n",
              "    }\n",
              "\n",
              "    .dataframe thead th {\n",
              "        text-align: right;\n",
              "    }\n",
              "</style>\n",
              "<table border=\"1\" class=\"dataframe\">\n",
              "  <thead>\n",
              "    <tr style=\"text-align: right;\">\n",
              "      <th></th>\n",
              "      <th>RowNumber</th>\n",
              "      <th>CustomerId</th>\n",
              "      <th>Surname</th>\n",
              "      <th>CreditScore</th>\n",
              "      <th>Geography</th>\n",
              "      <th>Gender</th>\n",
              "      <th>Age</th>\n",
              "      <th>Tenure</th>\n",
              "      <th>Balance</th>\n",
              "      <th>NumOfProducts</th>\n",
              "      <th>HasCrCard</th>\n",
              "      <th>IsActiveMember</th>\n",
              "      <th>EstimatedSalary</th>\n",
              "      <th>Exited</th>\n",
              "    </tr>\n",
              "  </thead>\n",
              "  <tbody>\n",
              "    <tr>\n",
              "      <th>0</th>\n",
              "      <td>1</td>\n",
              "      <td>15634602</td>\n",
              "      <td>Hargrave</td>\n",
              "      <td>619</td>\n",
              "      <td>France</td>\n",
              "      <td>Female</td>\n",
              "      <td>42</td>\n",
              "      <td>2</td>\n",
              "      <td>0.00</td>\n",
              "      <td>1</td>\n",
              "      <td>1</td>\n",
              "      <td>1</td>\n",
              "      <td>101348.88</td>\n",
              "      <td>1</td>\n",
              "    </tr>\n",
              "    <tr>\n",
              "      <th>1</th>\n",
              "      <td>2</td>\n",
              "      <td>15647311</td>\n",
              "      <td>Hill</td>\n",
              "      <td>608</td>\n",
              "      <td>Spain</td>\n",
              "      <td>Female</td>\n",
              "      <td>41</td>\n",
              "      <td>1</td>\n",
              "      <td>83807.86</td>\n",
              "      <td>1</td>\n",
              "      <td>0</td>\n",
              "      <td>1</td>\n",
              "      <td>112542.58</td>\n",
              "      <td>0</td>\n",
              "    </tr>\n",
              "    <tr>\n",
              "      <th>2</th>\n",
              "      <td>3</td>\n",
              "      <td>15619304</td>\n",
              "      <td>Onio</td>\n",
              "      <td>502</td>\n",
              "      <td>France</td>\n",
              "      <td>Female</td>\n",
              "      <td>42</td>\n",
              "      <td>8</td>\n",
              "      <td>159660.80</td>\n",
              "      <td>3</td>\n",
              "      <td>1</td>\n",
              "      <td>0</td>\n",
              "      <td>113931.57</td>\n",
              "      <td>1</td>\n",
              "    </tr>\n",
              "    <tr>\n",
              "      <th>3</th>\n",
              "      <td>4</td>\n",
              "      <td>15701354</td>\n",
              "      <td>Boni</td>\n",
              "      <td>699</td>\n",
              "      <td>France</td>\n",
              "      <td>Female</td>\n",
              "      <td>39</td>\n",
              "      <td>1</td>\n",
              "      <td>0.00</td>\n",
              "      <td>2</td>\n",
              "      <td>0</td>\n",
              "      <td>0</td>\n",
              "      <td>93826.63</td>\n",
              "      <td>0</td>\n",
              "    </tr>\n",
              "    <tr>\n",
              "      <th>4</th>\n",
              "      <td>5</td>\n",
              "      <td>15737888</td>\n",
              "      <td>Mitchell</td>\n",
              "      <td>850</td>\n",
              "      <td>Spain</td>\n",
              "      <td>Female</td>\n",
              "      <td>43</td>\n",
              "      <td>2</td>\n",
              "      <td>125510.82</td>\n",
              "      <td>1</td>\n",
              "      <td>1</td>\n",
              "      <td>1</td>\n",
              "      <td>79084.10</td>\n",
              "      <td>0</td>\n",
              "    </tr>\n",
              "  </tbody>\n",
              "</table>\n",
              "</div>\n",
              "      <button class=\"colab-df-convert\" onclick=\"convertToInteractive('df-5fd4512b-276d-4d85-9770-f6a6a9d5967b')\"\n",
              "              title=\"Convert this dataframe to an interactive table.\"\n",
              "              style=\"display:none;\">\n",
              "        \n",
              "  <svg xmlns=\"http://www.w3.org/2000/svg\" height=\"24px\"viewBox=\"0 0 24 24\"\n",
              "       width=\"24px\">\n",
              "    <path d=\"M0 0h24v24H0V0z\" fill=\"none\"/>\n",
              "    <path d=\"M18.56 5.44l.94 2.06.94-2.06 2.06-.94-2.06-.94-.94-2.06-.94 2.06-2.06.94zm-11 1L8.5 8.5l.94-2.06 2.06-.94-2.06-.94L8.5 2.5l-.94 2.06-2.06.94zm10 10l.94 2.06.94-2.06 2.06-.94-2.06-.94-.94-2.06-.94 2.06-2.06.94z\"/><path d=\"M17.41 7.96l-1.37-1.37c-.4-.4-.92-.59-1.43-.59-.52 0-1.04.2-1.43.59L10.3 9.45l-7.72 7.72c-.78.78-.78 2.05 0 2.83L4 21.41c.39.39.9.59 1.41.59.51 0 1.02-.2 1.41-.59l7.78-7.78 2.81-2.81c.8-.78.8-2.07 0-2.86zM5.41 20L4 18.59l7.72-7.72 1.47 1.35L5.41 20z\"/>\n",
              "  </svg>\n",
              "      </button>\n",
              "      \n",
              "  <style>\n",
              "    .colab-df-container {\n",
              "      display:flex;\n",
              "      flex-wrap:wrap;\n",
              "      gap: 12px;\n",
              "    }\n",
              "\n",
              "    .colab-df-convert {\n",
              "      background-color: #E8F0FE;\n",
              "      border: none;\n",
              "      border-radius: 50%;\n",
              "      cursor: pointer;\n",
              "      display: none;\n",
              "      fill: #1967D2;\n",
              "      height: 32px;\n",
              "      padding: 0 0 0 0;\n",
              "      width: 32px;\n",
              "    }\n",
              "\n",
              "    .colab-df-convert:hover {\n",
              "      background-color: #E2EBFA;\n",
              "      box-shadow: 0px 1px 2px rgba(60, 64, 67, 0.3), 0px 1px 3px 1px rgba(60, 64, 67, 0.15);\n",
              "      fill: #174EA6;\n",
              "    }\n",
              "\n",
              "    [theme=dark] .colab-df-convert {\n",
              "      background-color: #3B4455;\n",
              "      fill: #D2E3FC;\n",
              "    }\n",
              "\n",
              "    [theme=dark] .colab-df-convert:hover {\n",
              "      background-color: #434B5C;\n",
              "      box-shadow: 0px 1px 3px 1px rgba(0, 0, 0, 0.15);\n",
              "      filter: drop-shadow(0px 1px 2px rgba(0, 0, 0, 0.3));\n",
              "      fill: #FFFFFF;\n",
              "    }\n",
              "  </style>\n",
              "\n",
              "      <script>\n",
              "        const buttonEl =\n",
              "          document.querySelector('#df-5fd4512b-276d-4d85-9770-f6a6a9d5967b button.colab-df-convert');\n",
              "        buttonEl.style.display =\n",
              "          google.colab.kernel.accessAllowed ? 'block' : 'none';\n",
              "\n",
              "        async function convertToInteractive(key) {\n",
              "          const element = document.querySelector('#df-5fd4512b-276d-4d85-9770-f6a6a9d5967b');\n",
              "          const dataTable =\n",
              "            await google.colab.kernel.invokeFunction('convertToInteractive',\n",
              "                                                     [key], {});\n",
              "          if (!dataTable) return;\n",
              "\n",
              "          const docLinkHtml = 'Like what you see? Visit the ' +\n",
              "            '<a target=\"_blank\" href=https://colab.research.google.com/notebooks/data_table.ipynb>data table notebook</a>'\n",
              "            + ' to learn more about interactive tables.';\n",
              "          element.innerHTML = '';\n",
              "          dataTable['output_type'] = 'display_data';\n",
              "          await google.colab.output.renderOutput(dataTable, element);\n",
              "          const docLink = document.createElement('div');\n",
              "          docLink.innerHTML = docLinkHtml;\n",
              "          element.appendChild(docLink);\n",
              "        }\n",
              "      </script>\n",
              "    </div>\n",
              "  </div>\n",
              "  "
            ]
          },
          "metadata": {},
          "execution_count": 83
        }
      ],
      "source": [
        "df.head()"
      ]
    },
    {
      "cell_type": "code",
      "execution_count": 84,
      "metadata": {
        "scrolled": true,
        "colab": {
          "base_uri": "https://localhost:8080/",
          "height": 487
        },
        "id": "pgdng1HW0Nf1",
        "outputId": "b72efb58-78c0-48e7-cac5-a984801137e3"
      },
      "outputs": [
        {
          "output_type": "execute_result",
          "data": {
            "text/plain": [
              "      RowNumber  CustomerId  Surname  CreditScore  Geography  Gender    Age  \\\n",
              "0         False       False    False        False      False   False  False   \n",
              "1         False       False    False        False      False   False  False   \n",
              "2         False       False    False        False      False   False  False   \n",
              "3         False       False    False        False      False   False  False   \n",
              "4         False       False    False        False      False   False  False   \n",
              "...         ...         ...      ...          ...        ...     ...    ...   \n",
              "9995      False       False    False        False      False   False  False   \n",
              "9996      False       False    False        False      False   False  False   \n",
              "9997      False       False    False        False      False   False  False   \n",
              "9998      False       False    False        False      False   False  False   \n",
              "9999      False       False    False        False      False   False  False   \n",
              "\n",
              "      Tenure  Balance  NumOfProducts  HasCrCard  IsActiveMember  \\\n",
              "0      False    False          False      False           False   \n",
              "1      False    False          False      False           False   \n",
              "2      False    False          False      False           False   \n",
              "3      False    False          False      False           False   \n",
              "4      False    False          False      False           False   \n",
              "...      ...      ...            ...        ...             ...   \n",
              "9995   False    False          False      False           False   \n",
              "9996   False    False          False      False           False   \n",
              "9997   False    False          False      False           False   \n",
              "9998   False    False          False      False           False   \n",
              "9999   False    False          False      False           False   \n",
              "\n",
              "      EstimatedSalary  Exited  \n",
              "0               False   False  \n",
              "1               False   False  \n",
              "2               False   False  \n",
              "3               False   False  \n",
              "4               False   False  \n",
              "...               ...     ...  \n",
              "9995            False   False  \n",
              "9996            False   False  \n",
              "9997            False   False  \n",
              "9998            False   False  \n",
              "9999            False   False  \n",
              "\n",
              "[10000 rows x 14 columns]"
            ],
            "text/html": [
              "\n",
              "  <div id=\"df-b341f03d-d89c-470f-8781-b51ddcbd2ee5\">\n",
              "    <div class=\"colab-df-container\">\n",
              "      <div>\n",
              "<style scoped>\n",
              "    .dataframe tbody tr th:only-of-type {\n",
              "        vertical-align: middle;\n",
              "    }\n",
              "\n",
              "    .dataframe tbody tr th {\n",
              "        vertical-align: top;\n",
              "    }\n",
              "\n",
              "    .dataframe thead th {\n",
              "        text-align: right;\n",
              "    }\n",
              "</style>\n",
              "<table border=\"1\" class=\"dataframe\">\n",
              "  <thead>\n",
              "    <tr style=\"text-align: right;\">\n",
              "      <th></th>\n",
              "      <th>RowNumber</th>\n",
              "      <th>CustomerId</th>\n",
              "      <th>Surname</th>\n",
              "      <th>CreditScore</th>\n",
              "      <th>Geography</th>\n",
              "      <th>Gender</th>\n",
              "      <th>Age</th>\n",
              "      <th>Tenure</th>\n",
              "      <th>Balance</th>\n",
              "      <th>NumOfProducts</th>\n",
              "      <th>HasCrCard</th>\n",
              "      <th>IsActiveMember</th>\n",
              "      <th>EstimatedSalary</th>\n",
              "      <th>Exited</th>\n",
              "    </tr>\n",
              "  </thead>\n",
              "  <tbody>\n",
              "    <tr>\n",
              "      <th>0</th>\n",
              "      <td>False</td>\n",
              "      <td>False</td>\n",
              "      <td>False</td>\n",
              "      <td>False</td>\n",
              "      <td>False</td>\n",
              "      <td>False</td>\n",
              "      <td>False</td>\n",
              "      <td>False</td>\n",
              "      <td>False</td>\n",
              "      <td>False</td>\n",
              "      <td>False</td>\n",
              "      <td>False</td>\n",
              "      <td>False</td>\n",
              "      <td>False</td>\n",
              "    </tr>\n",
              "    <tr>\n",
              "      <th>1</th>\n",
              "      <td>False</td>\n",
              "      <td>False</td>\n",
              "      <td>False</td>\n",
              "      <td>False</td>\n",
              "      <td>False</td>\n",
              "      <td>False</td>\n",
              "      <td>False</td>\n",
              "      <td>False</td>\n",
              "      <td>False</td>\n",
              "      <td>False</td>\n",
              "      <td>False</td>\n",
              "      <td>False</td>\n",
              "      <td>False</td>\n",
              "      <td>False</td>\n",
              "    </tr>\n",
              "    <tr>\n",
              "      <th>2</th>\n",
              "      <td>False</td>\n",
              "      <td>False</td>\n",
              "      <td>False</td>\n",
              "      <td>False</td>\n",
              "      <td>False</td>\n",
              "      <td>False</td>\n",
              "      <td>False</td>\n",
              "      <td>False</td>\n",
              "      <td>False</td>\n",
              "      <td>False</td>\n",
              "      <td>False</td>\n",
              "      <td>False</td>\n",
              "      <td>False</td>\n",
              "      <td>False</td>\n",
              "    </tr>\n",
              "    <tr>\n",
              "      <th>3</th>\n",
              "      <td>False</td>\n",
              "      <td>False</td>\n",
              "      <td>False</td>\n",
              "      <td>False</td>\n",
              "      <td>False</td>\n",
              "      <td>False</td>\n",
              "      <td>False</td>\n",
              "      <td>False</td>\n",
              "      <td>False</td>\n",
              "      <td>False</td>\n",
              "      <td>False</td>\n",
              "      <td>False</td>\n",
              "      <td>False</td>\n",
              "      <td>False</td>\n",
              "    </tr>\n",
              "    <tr>\n",
              "      <th>4</th>\n",
              "      <td>False</td>\n",
              "      <td>False</td>\n",
              "      <td>False</td>\n",
              "      <td>False</td>\n",
              "      <td>False</td>\n",
              "      <td>False</td>\n",
              "      <td>False</td>\n",
              "      <td>False</td>\n",
              "      <td>False</td>\n",
              "      <td>False</td>\n",
              "      <td>False</td>\n",
              "      <td>False</td>\n",
              "      <td>False</td>\n",
              "      <td>False</td>\n",
              "    </tr>\n",
              "    <tr>\n",
              "      <th>...</th>\n",
              "      <td>...</td>\n",
              "      <td>...</td>\n",
              "      <td>...</td>\n",
              "      <td>...</td>\n",
              "      <td>...</td>\n",
              "      <td>...</td>\n",
              "      <td>...</td>\n",
              "      <td>...</td>\n",
              "      <td>...</td>\n",
              "      <td>...</td>\n",
              "      <td>...</td>\n",
              "      <td>...</td>\n",
              "      <td>...</td>\n",
              "      <td>...</td>\n",
              "    </tr>\n",
              "    <tr>\n",
              "      <th>9995</th>\n",
              "      <td>False</td>\n",
              "      <td>False</td>\n",
              "      <td>False</td>\n",
              "      <td>False</td>\n",
              "      <td>False</td>\n",
              "      <td>False</td>\n",
              "      <td>False</td>\n",
              "      <td>False</td>\n",
              "      <td>False</td>\n",
              "      <td>False</td>\n",
              "      <td>False</td>\n",
              "      <td>False</td>\n",
              "      <td>False</td>\n",
              "      <td>False</td>\n",
              "    </tr>\n",
              "    <tr>\n",
              "      <th>9996</th>\n",
              "      <td>False</td>\n",
              "      <td>False</td>\n",
              "      <td>False</td>\n",
              "      <td>False</td>\n",
              "      <td>False</td>\n",
              "      <td>False</td>\n",
              "      <td>False</td>\n",
              "      <td>False</td>\n",
              "      <td>False</td>\n",
              "      <td>False</td>\n",
              "      <td>False</td>\n",
              "      <td>False</td>\n",
              "      <td>False</td>\n",
              "      <td>False</td>\n",
              "    </tr>\n",
              "    <tr>\n",
              "      <th>9997</th>\n",
              "      <td>False</td>\n",
              "      <td>False</td>\n",
              "      <td>False</td>\n",
              "      <td>False</td>\n",
              "      <td>False</td>\n",
              "      <td>False</td>\n",
              "      <td>False</td>\n",
              "      <td>False</td>\n",
              "      <td>False</td>\n",
              "      <td>False</td>\n",
              "      <td>False</td>\n",
              "      <td>False</td>\n",
              "      <td>False</td>\n",
              "      <td>False</td>\n",
              "    </tr>\n",
              "    <tr>\n",
              "      <th>9998</th>\n",
              "      <td>False</td>\n",
              "      <td>False</td>\n",
              "      <td>False</td>\n",
              "      <td>False</td>\n",
              "      <td>False</td>\n",
              "      <td>False</td>\n",
              "      <td>False</td>\n",
              "      <td>False</td>\n",
              "      <td>False</td>\n",
              "      <td>False</td>\n",
              "      <td>False</td>\n",
              "      <td>False</td>\n",
              "      <td>False</td>\n",
              "      <td>False</td>\n",
              "    </tr>\n",
              "    <tr>\n",
              "      <th>9999</th>\n",
              "      <td>False</td>\n",
              "      <td>False</td>\n",
              "      <td>False</td>\n",
              "      <td>False</td>\n",
              "      <td>False</td>\n",
              "      <td>False</td>\n",
              "      <td>False</td>\n",
              "      <td>False</td>\n",
              "      <td>False</td>\n",
              "      <td>False</td>\n",
              "      <td>False</td>\n",
              "      <td>False</td>\n",
              "      <td>False</td>\n",
              "      <td>False</td>\n",
              "    </tr>\n",
              "  </tbody>\n",
              "</table>\n",
              "<p>10000 rows × 14 columns</p>\n",
              "</div>\n",
              "      <button class=\"colab-df-convert\" onclick=\"convertToInteractive('df-b341f03d-d89c-470f-8781-b51ddcbd2ee5')\"\n",
              "              title=\"Convert this dataframe to an interactive table.\"\n",
              "              style=\"display:none;\">\n",
              "        \n",
              "  <svg xmlns=\"http://www.w3.org/2000/svg\" height=\"24px\"viewBox=\"0 0 24 24\"\n",
              "       width=\"24px\">\n",
              "    <path d=\"M0 0h24v24H0V0z\" fill=\"none\"/>\n",
              "    <path d=\"M18.56 5.44l.94 2.06.94-2.06 2.06-.94-2.06-.94-.94-2.06-.94 2.06-2.06.94zm-11 1L8.5 8.5l.94-2.06 2.06-.94-2.06-.94L8.5 2.5l-.94 2.06-2.06.94zm10 10l.94 2.06.94-2.06 2.06-.94-2.06-.94-.94-2.06-.94 2.06-2.06.94z\"/><path d=\"M17.41 7.96l-1.37-1.37c-.4-.4-.92-.59-1.43-.59-.52 0-1.04.2-1.43.59L10.3 9.45l-7.72 7.72c-.78.78-.78 2.05 0 2.83L4 21.41c.39.39.9.59 1.41.59.51 0 1.02-.2 1.41-.59l7.78-7.78 2.81-2.81c.8-.78.8-2.07 0-2.86zM5.41 20L4 18.59l7.72-7.72 1.47 1.35L5.41 20z\"/>\n",
              "  </svg>\n",
              "      </button>\n",
              "      \n",
              "  <style>\n",
              "    .colab-df-container {\n",
              "      display:flex;\n",
              "      flex-wrap:wrap;\n",
              "      gap: 12px;\n",
              "    }\n",
              "\n",
              "    .colab-df-convert {\n",
              "      background-color: #E8F0FE;\n",
              "      border: none;\n",
              "      border-radius: 50%;\n",
              "      cursor: pointer;\n",
              "      display: none;\n",
              "      fill: #1967D2;\n",
              "      height: 32px;\n",
              "      padding: 0 0 0 0;\n",
              "      width: 32px;\n",
              "    }\n",
              "\n",
              "    .colab-df-convert:hover {\n",
              "      background-color: #E2EBFA;\n",
              "      box-shadow: 0px 1px 2px rgba(60, 64, 67, 0.3), 0px 1px 3px 1px rgba(60, 64, 67, 0.15);\n",
              "      fill: #174EA6;\n",
              "    }\n",
              "\n",
              "    [theme=dark] .colab-df-convert {\n",
              "      background-color: #3B4455;\n",
              "      fill: #D2E3FC;\n",
              "    }\n",
              "\n",
              "    [theme=dark] .colab-df-convert:hover {\n",
              "      background-color: #434B5C;\n",
              "      box-shadow: 0px 1px 3px 1px rgba(0, 0, 0, 0.15);\n",
              "      filter: drop-shadow(0px 1px 2px rgba(0, 0, 0, 0.3));\n",
              "      fill: #FFFFFF;\n",
              "    }\n",
              "  </style>\n",
              "\n",
              "      <script>\n",
              "        const buttonEl =\n",
              "          document.querySelector('#df-b341f03d-d89c-470f-8781-b51ddcbd2ee5 button.colab-df-convert');\n",
              "        buttonEl.style.display =\n",
              "          google.colab.kernel.accessAllowed ? 'block' : 'none';\n",
              "\n",
              "        async function convertToInteractive(key) {\n",
              "          const element = document.querySelector('#df-b341f03d-d89c-470f-8781-b51ddcbd2ee5');\n",
              "          const dataTable =\n",
              "            await google.colab.kernel.invokeFunction('convertToInteractive',\n",
              "                                                     [key], {});\n",
              "          if (!dataTable) return;\n",
              "\n",
              "          const docLinkHtml = 'Like what you see? Visit the ' +\n",
              "            '<a target=\"_blank\" href=https://colab.research.google.com/notebooks/data_table.ipynb>data table notebook</a>'\n",
              "            + ' to learn more about interactive tables.';\n",
              "          element.innerHTML = '';\n",
              "          dataTable['output_type'] = 'display_data';\n",
              "          await google.colab.output.renderOutput(dataTable, element);\n",
              "          const docLink = document.createElement('div');\n",
              "          docLink.innerHTML = docLinkHtml;\n",
              "          element.appendChild(docLink);\n",
              "        }\n",
              "      </script>\n",
              "    </div>\n",
              "  </div>\n",
              "  "
            ]
          },
          "metadata": {},
          "execution_count": 84
        }
      ],
      "source": [
        "df.isnull()"
      ]
    },
    {
      "cell_type": "code",
      "execution_count": 85,
      "metadata": {
        "id": "4NMSo3js0Nf1"
      },
      "outputs": [],
      "source": [
        "df.drop(['CustomerId','Surname'], axis=1, inplace=True)"
      ]
    },
    {
      "cell_type": "code",
      "execution_count": 86,
      "metadata": {
        "colab": {
          "base_uri": "https://localhost:8080/"
        },
        "id": "6JJCCqgi0Nf2",
        "outputId": "ff1ef532-8dac-4e10-e3fa-20197794d8b8"
      },
      "outputs": [
        {
          "output_type": "execute_result",
          "data": {
            "text/plain": [
              "(10000, 12)"
            ]
          },
          "metadata": {},
          "execution_count": 86
        }
      ],
      "source": [
        "df.shape"
      ]
    },
    {
      "cell_type": "code",
      "execution_count": 87,
      "metadata": {
        "colab": {
          "base_uri": "https://localhost:8080/"
        },
        "id": "3LbpDPzr0Nf2",
        "outputId": "21ae7a0e-3f50-4a7e-ce46-d6069222d6bd"
      },
      "outputs": [
        {
          "output_type": "execute_result",
          "data": {
            "text/plain": [
              "RowNumber          0\n",
              "CreditScore        0\n",
              "Geography          0\n",
              "Gender             0\n",
              "Age                0\n",
              "Tenure             0\n",
              "Balance            0\n",
              "NumOfProducts      0\n",
              "HasCrCard          0\n",
              "IsActiveMember     0\n",
              "EstimatedSalary    0\n",
              "Exited             0\n",
              "dtype: int64"
            ]
          },
          "metadata": {},
          "execution_count": 87
        }
      ],
      "source": [
        "df.isnull().sum()"
      ]
    },
    {
      "cell_type": "code",
      "execution_count": 88,
      "metadata": {
        "colab": {
          "base_uri": "https://localhost:8080/"
        },
        "id": "JKSth5xV0Nf2",
        "outputId": "8cb09102-5f81-4b51-a2ca-52e6917de832"
      },
      "outputs": [
        {
          "output_type": "stream",
          "name": "stderr",
          "text": [
            "<ipython-input-88-f9e9f5669b7b>:1: FutureWarning: In a future version of pandas all arguments of DataFrame.drop except for the argument 'labels' will be keyword-only\n",
            "  X=df.drop('Exited', 1)\n"
          ]
        }
      ],
      "source": [
        "X=df.drop('Exited', 1)\n",
        "y=df.Exited"
      ]
    },
    {
      "cell_type": "code",
      "execution_count": 89,
      "metadata": {
        "colab": {
          "base_uri": "https://localhost:8080/"
        },
        "id": "4Cl8wNnq0Nf2",
        "outputId": "0d93a264-0d10-4bfd-8b5c-6493dd3b18c2"
      },
      "outputs": [
        {
          "output_type": "stream",
          "name": "stdout",
          "text": [
            "0       1\n",
            "1       0\n",
            "2       1\n",
            "3       0\n",
            "4       0\n",
            "       ..\n",
            "9995    0\n",
            "9996    0\n",
            "9997    1\n",
            "9998    1\n",
            "9999    0\n",
            "Name: Exited, Length: 10000, dtype: int64\n"
          ]
        }
      ],
      "source": [
        "print(y)"
      ]
    },
    {
      "cell_type": "code",
      "execution_count": 90,
      "metadata": {
        "colab": {
          "base_uri": "https://localhost:8080/"
        },
        "id": "SmiSF3li0Nf2",
        "outputId": "29372ebc-b529-47ba-cf13-ff543c995800"
      },
      "outputs": [
        {
          "output_type": "execute_result",
          "data": {
            "text/plain": [
              "0    7963\n",
              "1    2037\n",
              "Name: Exited, dtype: int64"
            ]
          },
          "metadata": {},
          "execution_count": 90
        }
      ],
      "source": [
        "y.value_counts()"
      ]
    },
    {
      "cell_type": "code",
      "execution_count": 91,
      "metadata": {
        "id": "eLo-XwR10Nf2"
      },
      "outputs": [],
      "source": [
        "X_train, X_test, y_train, y_test = train_test_split(X, y, test_size=0.2, random_state=0, stratify=y)"
      ]
    },
    {
      "cell_type": "code",
      "execution_count": 92,
      "metadata": {
        "colab": {
          "base_uri": "https://localhost:8080/"
        },
        "id": "GRBmqKgr0Nf2",
        "outputId": "9aab1831-1710-42a5-a9e2-27da04b12837"
      },
      "outputs": [
        {
          "output_type": "execute_result",
          "data": {
            "text/plain": [
              "Index(['RowNumber', 'CreditScore', 'Geography', 'Gender', 'Age', 'Tenure',\n",
              "       'Balance', 'NumOfProducts', 'HasCrCard', 'IsActiveMember',\n",
              "       'EstimatedSalary'],\n",
              "      dtype='object')"
            ]
          },
          "metadata": {},
          "execution_count": 92
        }
      ],
      "source": [
        "X.columns"
      ]
    },
    {
      "cell_type": "code",
      "execution_count": 93,
      "metadata": {
        "id": "WmM6VjUi0Nf2"
      },
      "outputs": [],
      "source": [
        "num_cols = ['CreditScore', 'Age','Tenure','Balance' ,\n",
        "            'NumOfProducts' , 'EstimatedSalary' ]\n",
        "cat_cols = ['HasCrCard' , 'IsActiveMember', 'Geography', 'Gender']"
      ]
    },
    {
      "cell_type": "code",
      "execution_count": 94,
      "metadata": {
        "id": "rdEIobrl0Nf2"
      },
      "outputs": [],
      "source": [
        "ct= ColumnTransformer([\n",
        "    ('s1' , RobustScaler(), num_cols),\n",
        "    ('s2', OneHotEncoder(sparse=False, handle_unknown='ignore'),\n",
        "    cat_cols)\n",
        "])"
      ]
    },
    {
      "cell_type": "code",
      "execution_count": 95,
      "metadata": {
        "id": "8E1kLcUl0Nf2"
      },
      "outputs": [],
      "source": [
        "p = Pipeline([\n",
        "    ('ct' , ct),\n",
        "    ('mod',  LogisticRegression(random_state=0))\n",
        "])"
      ]
    },
    {
      "cell_type": "code",
      "execution_count": 96,
      "metadata": {
        "colab": {
          "base_uri": "https://localhost:8080/"
        },
        "id": "yJ0AEnkZ0Nf3",
        "outputId": "babf17e2-78d1-4150-950c-b97e426a3400"
      },
      "outputs": [
        {
          "output_type": "execute_result",
          "data": {
            "text/plain": [
              "Pipeline(steps=[('ct',\n",
              "                 ColumnTransformer(transformers=[('s1', RobustScaler(),\n",
              "                                                  ['CreditScore', 'Age',\n",
              "                                                   'Tenure', 'Balance',\n",
              "                                                   'NumOfProducts',\n",
              "                                                   'EstimatedSalary']),\n",
              "                                                 ('s2',\n",
              "                                                  OneHotEncoder(handle_unknown='ignore',\n",
              "                                                                sparse=False),\n",
              "                                                  ['HasCrCard',\n",
              "                                                   'IsActiveMember',\n",
              "                                                   'Geography', 'Gender'])])),\n",
              "                ('mod', LogisticRegression(random_state=0))])"
            ]
          },
          "metadata": {},
          "execution_count": 96
        }
      ],
      "source": [
        "p.fit(X_train,y_train)"
      ]
    },
    {
      "cell_type": "code",
      "execution_count": 97,
      "metadata": {
        "colab": {
          "base_uri": "https://localhost:8080/"
        },
        "id": "MOtwzfck0Nf3",
        "outputId": "fedd6e94-c306-4b6b-d14a-4ad97c447425"
      },
      "outputs": [
        {
          "output_type": "execute_result",
          "data": {
            "text/plain": [
              "array([1, 0, 0, 1, 0, 0, 0, 0, 0, 0, 0, 1, 0, 0, 0])"
            ]
          },
          "metadata": {},
          "execution_count": 97
        }
      ],
      "source": [
        "preds=p.predict(X_test)\n",
        "preds[:15]"
      ]
    },
    {
      "cell_type": "code",
      "execution_count": 98,
      "metadata": {
        "colab": {
          "base_uri": "https://localhost:8080/"
        },
        "id": "0JMNTeRX0Nf3",
        "outputId": "d1ccc029-b9d1-4143-a6cd-ee94a6c05afa"
      },
      "outputs": [
        {
          "output_type": "execute_result",
          "data": {
            "text/plain": [
              "array([1, 0, 0, 1, 1, 1, 0, 0, 1, 0, 0, 1, 0, 0, 0])"
            ]
          },
          "metadata": {},
          "execution_count": 98
        }
      ],
      "source": [
        "np.array(y_test)[:15]"
      ]
    },
    {
      "cell_type": "code",
      "execution_count": 99,
      "metadata": {
        "id": "6DWmUdGS0Nf3"
      },
      "outputs": [],
      "source": [
        "from sklearn.metrics import confusion_matrix,plot_confusion_matrix "
      ]
    },
    {
      "cell_type": "code",
      "execution_count": 100,
      "metadata": {
        "colab": {
          "base_uri": "https://localhost:8080/"
        },
        "id": "FhW6Sc070Nf3",
        "outputId": "b64c15a5-920d-4b7e-9dcc-1e2d7746d58b"
      },
      "outputs": [
        {
          "output_type": "execute_result",
          "data": {
            "text/plain": [
              "array([[1530,   63],\n",
              "       [ 319,   88]])"
            ]
          },
          "metadata": {},
          "execution_count": 100
        }
      ],
      "source": [
        "confusion_matrix(y_true=y_test ,y_pred=preds)"
      ]
    },
    {
      "cell_type": "code",
      "execution_count": 101,
      "metadata": {
        "colab": {
          "base_uri": "https://localhost:8080/"
        },
        "id": "JfuIjXFF0Nf3",
        "outputId": "9f31d4e0-5db9-453e-9d43-01474a56af13"
      },
      "outputs": [
        {
          "output_type": "execute_result",
          "data": {
            "text/plain": [
              "array([0, 1])"
            ]
          },
          "metadata": {},
          "execution_count": 101
        }
      ],
      "source": [
        "p.classes_"
      ]
    },
    {
      "cell_type": "code",
      "execution_count": 102,
      "metadata": {
        "colab": {
          "base_uri": "https://localhost:8080/"
        },
        "id": "1nvCJHy30Nf3",
        "outputId": "ee9c5128-f34a-4206-f1fb-7a8a59b5e4aa"
      },
      "outputs": [
        {
          "output_type": "execute_result",
          "data": {
            "text/plain": [
              "array([[  88,  319],\n",
              "       [  63, 1530]])"
            ]
          },
          "metadata": {},
          "execution_count": 102
        }
      ],
      "source": [
        "confusion_matrix(y_test,preds,labels=(1,0))"
      ]
    },
    {
      "cell_type": "code",
      "execution_count": 103,
      "metadata": {
        "colab": {
          "base_uri": "https://localhost:8080/"
        },
        "id": "qsj79Tpd0Nf3",
        "outputId": "e1d3fb57-76bf-49a2-a891-cc172a70eac2"
      },
      "outputs": [
        {
          "output_type": "execute_result",
          "data": {
            "text/plain": [
              "array([  88,  319,   63, 1530])"
            ]
          },
          "metadata": {},
          "execution_count": 103
        }
      ],
      "source": [
        "confusion_matrix(y_test,preds,labels=(1,0)).ravel()"
      ]
    },
    {
      "cell_type": "code",
      "execution_count": 104,
      "metadata": {
        "id": "FefEKCtp0Nf3"
      },
      "outputs": [],
      "source": [
        "tp,fn,fp,tn=confusion_matrix(y_test,preds,labels=(1,0)).ravel()"
      ]
    },
    {
      "cell_type": "code",
      "execution_count": 105,
      "metadata": {
        "colab": {
          "base_uri": "https://localhost:8080/"
        },
        "id": "QlEXnLPi0Nf4",
        "outputId": "dff8c66e-1bbd-42b0-8982-ed69b0c89db1"
      },
      "outputs": [
        {
          "output_type": "execute_result",
          "data": {
            "text/plain": [
              "0.5827814569536424"
            ]
          },
          "metadata": {},
          "execution_count": 105
        }
      ],
      "source": [
        "precision=tp/(tp+fp)\n",
        "precision"
      ]
    },
    {
      "cell_type": "code",
      "execution_count": 106,
      "metadata": {
        "id": "Fmj05nvG0Nf4"
      },
      "outputs": [],
      "source": [
        "from sklearn.metrics import accuracy_score,precision_score,recall_score,f1_score,fbeta_score,matthews_corrcoef"
      ]
    },
    {
      "cell_type": "code",
      "execution_count": 107,
      "metadata": {
        "colab": {
          "base_uri": "https://localhost:8080/"
        },
        "id": "zF9crkPM0Nf4",
        "outputId": "c35b2843-37d9-4915-90d8-d74c5d9af779"
      },
      "outputs": [
        {
          "output_type": "execute_result",
          "data": {
            "text/plain": [
              "0.5827814569536424"
            ]
          },
          "metadata": {},
          "execution_count": 107
        }
      ],
      "source": [
        "precision_score(y_test,preds)"
      ]
    },
    {
      "cell_type": "code",
      "execution_count": 108,
      "metadata": {
        "colab": {
          "base_uri": "https://localhost:8080/"
        },
        "id": "1Nc0VZTf0Nf4",
        "outputId": "5c361d97-0e0e-4a60-e217-883418b7fbc2"
      },
      "outputs": [
        {
          "output_type": "execute_result",
          "data": {
            "text/plain": [
              "0.21621621621621623"
            ]
          },
          "metadata": {},
          "execution_count": 108
        }
      ],
      "source": [
        "recall_score(y_test,preds)"
      ]
    },
    {
      "cell_type": "code",
      "execution_count": 109,
      "metadata": {
        "colab": {
          "base_uri": "https://localhost:8080/"
        },
        "id": "z_t_Gqkv0Nf4",
        "outputId": "b305e82d-e438-46dc-d8ad-01d2c21ec4d7"
      },
      "outputs": [
        {
          "output_type": "execute_result",
          "data": {
            "text/plain": [
              "0.31541218637992835"
            ]
          },
          "metadata": {},
          "execution_count": 109
        }
      ],
      "source": [
        "f1_score(y_test,preds)"
      ]
    },
    {
      "cell_type": "code",
      "execution_count": 110,
      "metadata": {
        "colab": {
          "base_uri": "https://localhost:8080/"
        },
        "id": "BtyPg92-0Nf4",
        "outputId": "55a80d59-6e81-4eec-bb8e-fdfdc6673aad"
      },
      "outputs": [
        {
          "output_type": "execute_result",
          "data": {
            "text/plain": [
              "0.4352126607319486"
            ]
          },
          "metadata": {},
          "execution_count": 110
        }
      ],
      "source": [
        "fbeta_score(y_test,preds,beta=0.5)"
      ]
    },
    {
      "cell_type": "code",
      "execution_count": 111,
      "metadata": {
        "colab": {
          "base_uri": "https://localhost:8080/"
        },
        "id": "m2gpVAE10Nf4",
        "outputId": "39b9bd74-ea4d-4d81-c1a0-62a11a4a50ab"
      },
      "outputs": [
        {
          "output_type": "execute_result",
          "data": {
            "text/plain": [
              "0.2473299606520517"
            ]
          },
          "metadata": {},
          "execution_count": 111
        }
      ],
      "source": [
        "fbeta_score(y_test,preds,beta=2)#this shows negativity in data"
      ]
    },
    {
      "cell_type": "code",
      "execution_count": 112,
      "metadata": {
        "colab": {
          "base_uri": "https://localhost:8080/"
        },
        "id": "IzkkdNg70Nf4",
        "outputId": "cf84e84b-d32f-43c2-d77e-20f0df93d87c"
      },
      "outputs": [
        {
          "output_type": "execute_result",
          "data": {
            "text/plain": [
              "0.2692195114515157"
            ]
          },
          "metadata": {},
          "execution_count": 112
        }
      ],
      "source": [
        "matthews_corrcoef(y_test,preds)"
      ]
    },
    {
      "cell_type": "code",
      "execution_count": 113,
      "metadata": {
        "id": "mG7vrhZm0Nf5"
      },
      "outputs": [],
      "source": [
        "from sklearn.metrics import SCORERS"
      ]
    },
    {
      "cell_type": "code",
      "execution_count": 114,
      "metadata": {
        "scrolled": true,
        "colab": {
          "base_uri": "https://localhost:8080/"
        },
        "id": "6oTyz4ri0Nf5",
        "outputId": "5462e290-19c3-4d34-df38-77d652b708ca"
      },
      "outputs": [
        {
          "output_type": "execute_result",
          "data": {
            "text/plain": [
              "['accuracy',\n",
              " 'adjusted_mutual_info_score',\n",
              " 'adjusted_rand_score',\n",
              " 'average_precision',\n",
              " 'balanced_accuracy',\n",
              " 'completeness_score',\n",
              " 'explained_variance',\n",
              " 'f1',\n",
              " 'f1_macro',\n",
              " 'f1_micro',\n",
              " 'f1_samples',\n",
              " 'f1_weighted',\n",
              " 'fowlkes_mallows_score',\n",
              " 'homogeneity_score',\n",
              " 'jaccard',\n",
              " 'jaccard_macro',\n",
              " 'jaccard_micro',\n",
              " 'jaccard_samples',\n",
              " 'jaccard_weighted',\n",
              " 'max_error',\n",
              " 'mutual_info_score',\n",
              " 'neg_brier_score',\n",
              " 'neg_log_loss',\n",
              " 'neg_mean_absolute_error',\n",
              " 'neg_mean_absolute_percentage_error',\n",
              " 'neg_mean_gamma_deviance',\n",
              " 'neg_mean_poisson_deviance',\n",
              " 'neg_mean_squared_error',\n",
              " 'neg_mean_squared_log_error',\n",
              " 'neg_median_absolute_error',\n",
              " 'neg_root_mean_squared_error',\n",
              " 'normalized_mutual_info_score',\n",
              " 'precision',\n",
              " 'precision_macro',\n",
              " 'precision_micro',\n",
              " 'precision_samples',\n",
              " 'precision_weighted',\n",
              " 'r2',\n",
              " 'rand_score',\n",
              " 'recall',\n",
              " 'recall_macro',\n",
              " 'recall_micro',\n",
              " 'recall_samples',\n",
              " 'recall_weighted',\n",
              " 'roc_auc',\n",
              " 'roc_auc_ovo',\n",
              " 'roc_auc_ovo_weighted',\n",
              " 'roc_auc_ovr',\n",
              " 'roc_auc_ovr_weighted',\n",
              " 'top_k_accuracy',\n",
              " 'v_measure_score']"
            ]
          },
          "metadata": {},
          "execution_count": 114
        }
      ],
      "source": [
        "sorted(SCORERS.keys())"
      ]
    },
    {
      "cell_type": "markdown",
      "metadata": {
        "id": "WWMy0Qk60Nf5"
      },
      "source": [
        "# plotting ROC & precision recall curves using sklearn function"
      ]
    },
    {
      "cell_type": "code",
      "execution_count": 115,
      "metadata": {
        "id": "Dco_EmJh0Nf5"
      },
      "outputs": [],
      "source": [
        " from sklearn.metrics import plot_roc_curve,precision_recall_curve,roc_curve"
      ]
    },
    {
      "cell_type": "code",
      "execution_count": 116,
      "metadata": {
        "colab": {
          "base_uri": "https://localhost:8080/",
          "height": 351
        },
        "id": "CyaOtFOL0Nf5",
        "outputId": "c426d130-be97-4b1c-adbd-e52119a280c1"
      },
      "outputs": [
        {
          "output_type": "stream",
          "name": "stderr",
          "text": [
            "/usr/local/lib/python3.8/dist-packages/sklearn/utils/deprecation.py:87: FutureWarning: Function plot_roc_curve is deprecated; Function :func:`plot_roc_curve` is deprecated in 1.0 and will be removed in 1.2. Use one of the class methods: :meth:`sklearn.metric.RocCurveDisplay.from_predictions` or :meth:`sklearn.metric.RocCurveDisplay.from_estimator`.\n",
            "  warnings.warn(msg, category=FutureWarning)\n"
          ]
        },
        {
          "output_type": "execute_result",
          "data": {
            "text/plain": [
              "<sklearn.metrics._plot.roc_curve.RocCurveDisplay at 0x7f06b0a06ac0>"
            ]
          },
          "metadata": {},
          "execution_count": 116
        },
        {
          "output_type": "display_data",
          "data": {
            "text/plain": [
              "<Figure size 432x288 with 1 Axes>"
            ],
            "image/png": "[encoded data removed]"
          },
          "metadata": {
            "needs_background": "light"
          }
        }
      ],
      "source": [
        "plot_roc_curve(p,X_test,y_test)"
      ]
    },
    {
      "cell_type": "code",
      "execution_count": 117,
      "metadata": {
        "colab": {
          "base_uri": "https://localhost:8080/",
          "height": 282
        },
        "id": "YbGh3O240Nf5",
        "outputId": "fe350150-318b-4d57-823a-b2bc29e34109"
      },
      "outputs": [
        {
          "output_type": "execute_result",
          "data": {
            "text/plain": [
              "[<matplotlib.lines.Line2D at 0x7f06adc302b0>]"
            ]
          },
          "metadata": {},
          "execution_count": 117
        },
        {
          "output_type": "display_data",
          "data": {
            "text/plain": [
              "<Figure size 432x288 with 1 Axes>"
            ],
            "image/png": "[encoded data removed]"
          },
          "metadata": {
            "needs_background": "light"
          }
        }
      ],
      "source": [
        "plt.plot([0,1],[0,1],c='k')"
      ]
    },
    {
      "cell_type": "code",
      "execution_count": 118,
      "metadata": {
        "scrolled": false,
        "colab": {
          "base_uri": "https://localhost:8080/",
          "height": 351
        },
        "id": "SOmjDPfB0Nf5",
        "outputId": "a2f0cb91-9059-4a0a-dc72-7a322493e43b"
      },
      "outputs": [
        {
          "output_type": "stream",
          "name": "stderr",
          "text": [
            "/usr/local/lib/python3.8/dist-packages/sklearn/utils/deprecation.py:87: FutureWarning: Function plot_roc_curve is deprecated; Function :func:`plot_roc_curve` is deprecated in 1.0 and will be removed in 1.2. Use one of the class methods: :meth:`sklearn.metric.RocCurveDisplay.from_predictions` or :meth:`sklearn.metric.RocCurveDisplay.from_estimator`.\n",
            "  warnings.warn(msg, category=FutureWarning)\n"
          ]
        },
        {
          "output_type": "execute_result",
          "data": {
            "text/plain": [
              "[<matplotlib.lines.Line2D at 0x7f06adb933d0>]"
            ]
          },
          "metadata": {},
          "execution_count": 118
        },
        {
          "output_type": "display_data",
          "data": {
            "text/plain": [
              "<Figure size 432x288 with 1 Axes>"
            ],
            "image/png": "[encoded data removed]"
          },
          "metadata": {
            "needs_background": "light"
          }
        }
      ],
      "source": [
        "plot_roc_curve(p,X_test,y_test)\n",
        "plt.plot([0,1],[0,1],c='k')"
      ]
    }
  ],
  "metadata": {
    "colab": {
      "provenance": []
    },
    "kernelspec": {
      "display_name": "Python 3 (ipykernel)",
      "language": "python",
      "name": "python3"
    },
    "language_info": {
      "codemirror_mode": {
        "name": "ipython",
        "version": 3
      },
      "file_extension": ".py",
      "mimetype": "text/x-python",
      "name": "python",
      "nbconvert_exporter": "python",
      "pygments_lexer": "ipython3",
      "version": "3.9.12"
    }
  },
  "nbformat": 4,
  "nbformat_minor": 0
}